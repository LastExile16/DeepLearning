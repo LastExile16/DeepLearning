{
 "cells": [
  {
   "cell_type": "markdown",
   "id": "c4e9e2a8-39b0-4b5d-bb50-75aa482bae0c",
   "metadata": {},
   "source": [
    "## from: https://github.com/bentrevett/pytorch-seq2seq/"
   ]
  },
  {
   "cell_type": "markdown",
   "id": "4e827b9a-c214-487b-9830-e5d0f2b7d806",
   "metadata": {},
   "source": [
    "# 1 - Sequence to Sequence Learning with Neural Networks\n",
    "\n",
    "In this series we'll be building a machine learning model to go from once sequence to another, using PyTorch and torchtext. This will be done on German to English translations, but the models can be applied to any problem that involves going from one sequence to another, such as summarization, i.e. going from a sequence to a shorter sequence in the same language.\n",
    "\n",
    "In this first notebook, we'll start simple to understand the general concepts by implementing the model from the [Sequence to Sequence Learning with Neural Networks](https://arxiv.org/abs/1409.3215) paper. \n",
    "\n",
    "## Introduction\n",
    "\n",
    "The most common sequence-to-sequence (seq2seq) models are *encoder-decoder* models, which commonly use a *recurrent neural network* (RNN) to *encode* the source (input) sentence into a single vector. In this notebook, we'll refer to this single vector as a *context vector*. We can think of the context vector as being an abstract representation of the entire input sentence. This vector is then *decoded* by a second RNN which learns to output the target (output) sentence by generating it one word at a time.\n",
    "\n",
    "![](assets/seq2seq1.png)\n",
    "\n",
    "The above image shows an example translation. The input/source sentence, \\\"guten morgen\\\", is passed through the embedding layer (yellow) and then input into the encoder (green). We also append a *start of sequence* (`<sos>`) and *end of sequence* (`<eos>`) token to the start and end of sentence, respectively. At each time-step, the input to the encoder RNN is both the embedding, $e$, of the current word, $e(x_t)$, as well as the hidden state from the previous time-step, $h_{t-1}$, and the encoder RNN outputs a new hidden state $h_t$. We can think of the hidden state as a vector representation of the sentence so far. The RNN can be represented as a function of both of $e(x_t)$ and $h_{t-1}$:\n",
    "\n",
    "$$h_t = \\text{EncoderRNN}(e(x_t), h_{t-1})$$\n",
    "\n",
    "We're using the term RNN generally here, it could be any recurrent architecture, such as an *LSTM* (Long Short-Term Memory) or a *GRU* (Gated Recurrent Unit). \n",
    "\n",
    "Here, we have $X = \\{x_1, x_2, ..., x_T\\}$, where $x_1 = \\text{<sos>}, x_2 = \\text{guten}$, etc. The initial hidden state, $h_0$, is usually either initialized to zeros or a learned parameter.\n",
    "\n",
    "Once the final word, $x_T$, has been passed into the RNN via the embedding layer, we use the final hidden state, $h_T$, as the context vector, i.e. $h_T = z$. This is a vector representation of the entire source sentence.\n",
    "\n",
    "Now we have our context vector, $z$, we can start decoding it to get the output/target sentence, \\\"good morning\\\". Again, we append start and end of sequence tokens to the target sentence. At each time-step, the input to the decoder RNN (blue) is the embedding, $d$, of current word, $d(y_t)$, as well as the hidden state from the previous time-step, $s_{t-1}$, where the initial decoder hidden state, $s_0$, is the context vector, $s_0 = z = h_T$, i.e. the initial decoder hidden state is the final encoder hidden state. Thus, similar to the encoder, we can represent the decoder as:\n",
    "\n",
    "$$s_t = \\text{DecoderRNN}(d(y_t), s_{t-1})$$\n",
    "\n",
    "Although the input/source embedding layer, $e$, and the output/target embedding layer, $d$, are both shown in yellow in the diagram they are two different embedding layers with their own parameters.\n",
    "\n",
    "In the decoder, we need to go from the hidden state to an actual word, therefore at each time-step we use $s_t$ to predict (by passing it through a `Linear` layer, shown in purple) what we think is the next word in the sequence, $\\hat{y}_t$. \n",
    "\n",
    "$$\\hat{y}_t = f(s_t)$$\n",
    "\n",
    "The words in the decoder are always generated one after another, with one per time-step. We always use `<sos>` for the first input to the decoder, $y_1$, but for subsequent inputs, $y_{t>1}$, we will sometimes use the actual, ground truth next word in the sequence, $y_t$ and sometimes use the word predicted by our decoder, $\\hat{y}_{t-1}$. This is called *teacher forcing*, see a bit more info about it [here](https://machinelearningmastery.com/teacher-forcing-for-recurrent-neural-networks/). \n",
    "\n",
    "When training/testing our model, we always know how many words are in our target sentence, so we stop generating words once we hit that many. During inference it is common to keep generating words until the model outputs an `<eos>` token or after a certain amount of words have been generated.\n",
    "\n",
    "Once we have our predicted target sentence, $\\hat{Y} = \\{ \\hat{y}_1, \\hat{y}_2, ..., \\hat{y}_T \\}$, we compare it against our actual target sentence, $Y = \\{ y_1, y_2, ..., y_T \\}$, to calculate our loss. We then use this loss to update all of the parameters in our model.\n",
    "\n",
    "## Preparing Data\n",
    "\n",
    "We'll be coding up the models in PyTorch and using torchtext to help us do all of the pre-processing required. We'll also be using spaCy to assist in the tokenization of the data.\n"
   ]
  },
  {
   "cell_type": "code",
   "execution_count": 1,
   "id": "5cfa59a3-dad7-44e4-a2ff-75b13602e5eb",
   "metadata": {
    "tags": []
   },
   "outputs": [
    {
     "name": "stderr",
     "output_type": "stream",
     "text": [
      "2023-09-25 14:29:26.191477: I tensorflow/core/platform/cpu_feature_guard.cc:193] This TensorFlow binary is optimized with oneAPI Deep Neural Network Library (oneDNN) to use the following CPU instructions in performance-critical operations:  AVX2 FMA\n",
      "To enable them in other operations, rebuild TensorFlow with the appropriate compiler flags.\n",
      "2023-09-25 14:29:27.114058: W tensorflow/compiler/xla/stream_executor/platform/default/dso_loader.cc:64] Could not load dynamic library 'libnvinfer.so.7'; dlerror: libnvinfer.so.7: cannot open shared object file: No such file or directory; LD_LIBRARY_PATH: /usr/local/nvidia/lib:/usr/local/nvidia/lib64\n",
      "2023-09-25 14:29:27.114207: W tensorflow/compiler/xla/stream_executor/platform/default/dso_loader.cc:64] Could not load dynamic library 'libnvinfer_plugin.so.7'; dlerror: libnvinfer_plugin.so.7: cannot open shared object file: No such file or directory; LD_LIBRARY_PATH: /usr/local/nvidia/lib:/usr/local/nvidia/lib64\n",
      "2023-09-25 14:29:27.114217: W tensorflow/compiler/tf2tensorrt/utils/py_utils.cc:38] TF-TRT Warning: Cannot dlopen some TensorRT libraries. If you would like to use Nvidia GPU with TensorRT, please make sure the missing libraries mentioned above are installed properly.\n"
     ]
    }
   ],
   "source": [
    "import torch\n",
    "import torch.nn as nn\n",
    "import torch.optim as optim\n",
    "\n",
    "# for pre processing\n",
    "# pip install torchtext==0.14.0 --no-deps\n",
    "# https://stackoverflow.com/questions/76053795/install-torchtext-with-pytorch-1-13-1-with-cuda-11-7\n",
    "from torchtext.data import get_tokenizer\n",
    "from torchtext.vocab import build_vocab_from_iterator\n",
    "from torchtext.datasets import Multi30k\n",
    "\n",
    "# for tokenization\n",
    "import spacy\n",
    "\n",
    "import numpy as np\n",
    "import random, math, time"
   ]
  },
  {
   "cell_type": "code",
   "execution_count": 2,
   "id": "1fef27a8-118f-47c5-b317-4bc93ac8bfbd",
   "metadata": {
    "tags": []
   },
   "outputs": [],
   "source": [
    "SEED = 1234\n",
    "\n",
    "random.seed(SEED)\n",
    "np.random.seed(SEED)\n",
    "torch.manual_seed(SEED)\n",
    "torch.cuda.manual_seed(SEED)\n",
    "torch.backends.cudnn.deterministic = True"
   ]
  },
  {
   "cell_type": "code",
   "execution_count": 3,
   "id": "39d9152c-7ea3-40ca-b203-58215c256930",
   "metadata": {
    "tags": []
   },
   "outputs": [],
   "source": [
    "# python -m spacy download en_core_web_sm\n",
    "def load_model(model_name):\n",
    "    try:\n",
    "        nlp = spacy.load(model_name)\n",
    "    except OSError:\n",
    "        print(f\"Model '{model_name}' not found. Installing...\")\n",
    "        spacy.cli.download(model_name, \"--quiet\")\n",
    "        print(f\"Model '{model_name}' installed successfully.\")\n",
    "        nlp = spacy.load(model_name)\n",
    "    return nlp\n",
    "\n",
    "# Load English/Dutch tokenizer, tagger, parser and NER\n",
    "spacy_de = load_model('de_core_news_sm')\n",
    "spacy_en = load_model('en_core_web_sm')\n"
   ]
  },
  {
   "cell_type": "code",
   "execution_count": 4,
   "id": "76510c4a-6e19-4b70-b051-45a4552e4ba6",
   "metadata": {
    "tags": []
   },
   "outputs": [],
   "source": [
    "# create tokenizer function\n",
    "# input: sentece string\n",
    "# output: list of tokens\n",
    "\n",
    "def custom_tokenize_de(text):\n",
    "    \"\"\"\n",
    "    Tokenized German text from a string into a list of strings (tokens) and reverses it\n",
    "    The authors of the Seq2Seq paper found that introducing these new short-term \n",
    "    dependencies by reversing the input sequence can be beneficial for the \n",
    "    optimization problem. It helps the model to capture different patterns and \n",
    "    dependencies in the data, which can improve the learning process.\n",
    "    \"\"\"\n",
    "    \n",
    "    return [tok.text.lower() for tok in spacy_de.tokenizer(text)][::-1]\n",
    "\n",
    "def custom_tokenize_en(text):\n",
    "    \"\"\"\n",
    "    Tokenize English text from string into a list of strings (tokens)\n",
    "    \"\"\"\n",
    "    return [tok.text.lower() for tok in spacy_en.tokenizer(text)]\n"
   ]
  },
  {
   "cell_type": "markdown",
   "id": "44b2dadb-b434-4e3e-83a2-621c08d3ae3d",
   "metadata": {},
   "source": [
    "Tokenizer function has been changed. The tokenizer function handle how data should be processed.\n",
    "* depricated version was Field class which was doing several functionalities.\n",
    "* for the sake of simplicity the actions are divided into multiple new Classes.\n",
    "* that is why, now, we have to implement each functionality independently\n",
    "\n",
    "We set the argument in get_tokenizer to the correct tokenization function for each. The tokenizer will not append the \"start of sequence\" and \"end of sequence\" tokens anymore. We also need to manually converts all words to lowercase."
   ]
  },
  {
   "cell_type": "code",
   "execution_count": 5,
   "id": "1cb9626e-e63a-4686-a93f-0e5d1f46e649",
   "metadata": {
    "tags": []
   },
   "outputs": [],
   "source": [
    "SRC_tokenizer = get_tokenizer(custom_tokenize_de)\n",
    "TRG_tokenizer = get_tokenizer(custom_tokenize_en)"
   ]
  },
  {
   "cell_type": "markdown",
   "id": "48bdc877-837c-4e9e-88a0-6cb9de194870",
   "metadata": {},
   "source": [
    "Special symbols are symbols with unique meaning. Since the tokenizer will not append the \"start of sequence\" and \"end of sequence\". We will need to manually add them in building vocab. Yield_tokens is the help function to split string into words (tokens)."
   ]
  },
  {
   "cell_type": "code",
   "execution_count": 6,
   "id": "67ad9ffc-b740-4d70-a1ca-785f7b2099bc",
   "metadata": {
    "tags": []
   },
   "outputs": [],
   "source": [
    "# special symbols added to the list of tokens when data is loaded\n",
    "special_symbols = ['<unk>', '<pad>', '<sos>', '<eos>']\n",
    "\n",
    "def yield_tokens(dataset, tokenizer, is_source):\n",
    "    \"\"\"\n",
    "    A generator function that yields tokenized sequences from a dataset.\n",
    "    the dataset can be a training, validation or test datasets where it has\n",
    "    input and target\n",
    "\n",
    "    Args:\n",
    "        dataset (list): The dataset containing input sequences.\n",
    "        tokenizer (function): A function that tokenizes a given sequence.\n",
    "        is_source (bool): A flag indicating whether the we to tokenize the\n",
    "        input or target from the given dataset.\n",
    "\n",
    "    Yields:\n",
    "        list: A tokenized sequence.\n",
    "\n",
    "    \"\"\"\n",
    "    for i in dataset:\n",
    "        if is_source:\n",
    "            yield tokenizer(i[0])\n",
    "        else:\n",
    "            yield tokenizer(i[1])"
   ]
  },
  {
   "cell_type": "markdown",
   "id": "bab19a03-6667-46c9-a3d0-1244b5074d95",
   "metadata": {},
   "source": [
    "Unrelated practice about vocab and how it works. you can ignore it"
   ]
  },
  {
   "cell_type": "code",
   "execution_count": 7,
   "id": "53aee2a4-f86e-4b31-94fe-d13faa6d15e6",
   "metadata": {
    "tags": []
   },
   "outputs": [],
   "source": [
    "# url_base = 'https://raw.githubusercontent.com/multi30k/dataset/master/data/task1/raw/'\n",
    "# train_urls = ('train.en.gz', 'train.de.gz')\n",
    "# val_urls = ('val.en.gz', 'val.de.gz')\n",
    "# test_urls = ('test_2016_flickr.en.gz', 'test_2016_flickr.de.gz')\n",
    "# from torchtext.utils import download_from_url, extract_archive\n",
    "\n",
    "# train_filepaths = [extract_archive(download_from_url(url_base + url))[0] for url in train_urls]\n",
    "# val_filepaths = [extract_archive(download_from_url(url_base + url))[0] for url in val_urls]\n",
    "# test_filepaths = [extract_archive(download_from_url(url_base + url))[0] for url in test_urls]"
   ]
  },
  {
   "cell_type": "code",
   "execution_count": 8,
   "id": "b90c545a-02d2-40c1-bb5a-5bcb68fd1334",
   "metadata": {
    "tags": []
   },
   "outputs": [],
   "source": [
    "# import io\n",
    "\n",
    "# # Define a custom data loading function that reads the data with the correct encoding\n",
    "# def load_custom_multi30k(split, language_pair, root):\n",
    "#     file_path = f'{root}/{split}.{language_pair[0]}'\n",
    "\n",
    "#     # Read the data with the detected encoding\n",
    "#     with codecs.open(file_path, 'r', encoding='utf8') as file:\n",
    "#         data = [line.strip() for line in file]\n",
    "\n",
    "#     return data\n",
    "\n",
    "# # Load the Multi30k dataset using the custom data loading function\n",
    "# # valid_data = load_custom_multi30k(split='val', language_pair=('de', 'en'), root='.data')\n",
    "# test_data = load_custom_multi30k(split='test_2016_flickr', language_pair=('de', 'en'), root='.data')\n"
   ]
  },
  {
   "cell_type": "code",
   "execution_count": 9,
   "id": "0864f5f9-0687-4988-a987-eab74fa6068b",
   "metadata": {
    "tags": []
   },
   "outputs": [],
   "source": [
    "# test_data[0]"
   ]
  },
  {
   "cell_type": "code",
   "execution_count": 10,
   "id": "f798a9bb-858b-47a7-bfaa-3dea53d3c2dc",
   "metadata": {},
   "outputs": [],
   "source": [
    "# import torchtext\n",
    "# PAD = \"<pad>\"\n",
    "# UNK = \"<unk>\"\n",
    "# EOS = \"<eos>\"\n",
    "# BOS = \"<bos>\"\n",
    "# # vocab = torchtext.vocab.vocab(\n",
    "# #     ordered_dict={\"today\": 1, \"is\": 1, \"hot\": 2},\n",
    "# #     min_freq=1,\n",
    "# #     specials=[PAD, UNK, EOS, BOS],\n",
    "# #     special_first=True\n",
    "# # )\n",
    "# # print(vocab.get_stoi())\n",
    "\n",
    "\n",
    "# # Example tokenized text data\n",
    "# text_data = [[\"I\", \"love\", \"Python\"], [\"Python\", \"is\", \"fun\"]]\n",
    "\n",
    "# # Build a vocabulary\n",
    "# vocab = build_vocab_from_iterator(text_data, min_freq=1,\n",
    "#     specials=[PAD, UNK, EOS, BOS],\n",
    "#     special_first=True)\n",
    "\n",
    "# # Access vocabulary information\n",
    "# print(vocab.get_stoi())  # Token to ID mapping\n",
    "# print(vocab.get_itos())  # ID to token mapping"
   ]
  },
  {
   "cell_type": "markdown",
   "id": "2533edef-acce-4ea5-894d-725632fec12f",
   "metadata": {},
   "source": [
    "Next, we’ll build the vocabulary for the source and target languages. \n",
    " * The vocabulary is used to associate each unique token with an index (an integer). \n",
    " * The vocabularies of the source and target languages are distinct. \n",
    " * Using the `min_freq` argument, we only allow tokens that appear at least 2 times to appear in our vocabulary. \n",
    " * Tokens that appear only once are converted into an `<unk>` (unknown) token. \n",
    " * `specials` are symbols having unique meanings such as unknown token, beginning of sentence token, etc... \n",
    " * `special_first` appends special symbols at the beginning\n",
    " * `build_vocab_from_iterator` iterates through the tokenized text data and counts the frequency of each unique token in the provided iterable.\n",
    " *  It assigns a unique ID to each token based on its frequency, with more frequent tokens typically getting lower IDs.\n",
    " \n",
    "*It is important to note that our vocabulary should only be built from the training set and not the validation/test set. \n",
    "This prevents “information leakage” into our model, giving us artifically inflated validation/test scores.*"
   ]
  },
  {
   "cell_type": "code",
   "execution_count": 11,
   "id": "b77d344d-bae9-4e2e-8d9c-ae547edb11e4",
   "metadata": {
    "tags": []
   },
   "outputs": [],
   "source": [
    "url_base = 'https://raw.githubusercontent.com/multi30k/dataset/master/data/task1/raw/'\n",
    "train_urls = ('train.de.gz', 'train.en.gz')\n",
    "val_urls = ('val.de.gz', 'val.en.gz')\n",
    "test_urls = ('test_2016_flickr.de.gz', 'test_2016_flickr.en.gz')\n",
    "root = 'data/datasets/Multi30k'\n",
    "\n",
    "from torchtext.utils import download_from_url, extract_archive\n",
    "\n",
    "train_filepaths = [extract_archive(download_from_url(url_base + url, root=root))[0] for url in train_urls]\n",
    "val_filepaths = [extract_archive(download_from_url(url_base + url, root=root))[0] for url in val_urls]\n",
    "test_filepaths = [extract_archive(download_from_url(url_base + url, root=root))[0] for url in test_urls]"
   ]
  },
  {
   "cell_type": "code",
   "execution_count": 12,
   "id": "607159e5-0d26-43b3-a0ed-bc83f710b019",
   "metadata": {
    "tags": []
   },
   "outputs": [
    {
     "data": {
      "text/plain": [
       "['/jupyter/notebooks/udacity/RNN/Seq2Seq/data/datasets/Multi30k/train.de',\n",
       " '/jupyter/notebooks/udacity/RNN/Seq2Seq/data/datasets/Multi30k/train.en']"
      ]
     },
     "execution_count": 12,
     "metadata": {},
     "output_type": "execute_result"
    }
   ],
   "source": [
    "train_filepaths"
   ]
  },
  {
   "cell_type": "code",
   "execution_count": 13,
   "id": "cecd594b-7555-4bf0-83c2-d07944a3d961",
   "metadata": {
    "tags": []
   },
   "outputs": [],
   "source": [
    "from torchdata.datapipes.iter import FileOpener, IterableWrapper\n",
    "def read_data_as_iter(paths: list):\n",
    "    assert len(paths) == 2, \"path must contain only 2 elements: src and tgt language path respectively\"\n",
    "    url_dp = IterableWrapper([paths[0]])\n",
    "    src_data_dp = FileOpener(url_dp, encoding=\"utf-8\").readlines(\n",
    "        return_path=False, strip_newline=True\n",
    "    )\n",
    "    url_dp = IterableWrapper([paths[1]])\n",
    "    tgt_data_dp = FileOpener(url_dp, encoding=\"utf-8\").readlines(\n",
    "        return_path=False, strip_newline=True\n",
    "    )\n",
    "\n",
    "    return src_data_dp.zip(tgt_data_dp).shuffle().set_shuffle(False).sharding_filter()"
   ]
  },
  {
   "cell_type": "markdown",
   "id": "d67fd6b9-e839-49f5-a359-b09398d6e988",
   "metadata": {},
   "source": [
    "* The advantage of the following function to read data is that we get a an object that the dataloader can use function len() to get the number of batches in the dataset\n",
    "* however, # zip returns an iterator object. The first time you convert it to a list, the iterator is consumed so we have to re-create it every time we make use of it.\n",
    "* the above function on the other hand returns an object that is created from a data pipeline, such as IterableDataset or IterableDatasetWithCollate. \n",
    "* These types of datasets do not have a predefined length because they generate data on-the-fly or from an infinite source so we have to count each batch during the training phase to know the number of batches"
   ]
  },
  {
   "cell_type": "code",
   "execution_count": 14,
   "id": "8e244012-0b05-414f-a4bc-a9b98c84179c",
   "metadata": {
    "tags": []
   },
   "outputs": [],
   "source": [
    "# import io\n",
    "# def read_data_as_iter(paths: list):\n",
    "#     assert len(paths) == 2, \"path must contain only 2 elements: src and tgt language path respectively\"\n",
    "    \n",
    "#     # Read source language data\n",
    "#     src_data_dp = io.open(paths[0], encoding=\"utf8\")\n",
    "#     src_data_iter = iter(src_data_dp)\n",
    "    \n",
    "#     # Read target language data\n",
    "#     tgt_data_dp = io.open(paths[1], encoding=\"utf8\")\n",
    "#     tgt_data_iter = iter(tgt_data_dp)\n",
    "    \n",
    "#     # Zip the source and target language data\n",
    "#     parallel_corpus = zip(src_data_iter, tgt_data_iter)\n",
    "    \n",
    "#     # Return the parallel corpus\n",
    "#     return parallel_corpus"
   ]
  },
  {
   "cell_type": "code",
   "execution_count": 15,
   "id": "f1ddb423-824b-4441-9b4f-922afa304b0c",
   "metadata": {
    "tags": []
   },
   "outputs": [],
   "source": [
    "# # Define the file path you want to open\n",
    "# file_path = './data/datasets/Multi30k/train.de'\n",
    "# url_dp = IterableWrapper([file_path])\n",
    "\n",
    "# file_opener = FileOpener(url_dp, encoding=\"utf-8\")\n",
    "\n",
    "# # Read the content of the file using readlines\n",
    "# lines = file_opener.readlines(return_path=False, strip_newline=True)\n",
    "\n",
    "# # Print the lines or work with the file content as needed\n",
    "# for line in lines:\n",
    "#     print(line)"
   ]
  },
  {
   "cell_type": "code",
   "execution_count": 16,
   "id": "889274a1-b40e-48d4-9dc0-7285cca497dc",
   "metadata": {
    "tags": []
   },
   "outputs": [
    {
     "data": {
      "text/plain": [
       "ShardingFilterIterDataPipe"
      ]
     },
     "execution_count": 16,
     "metadata": {},
     "output_type": "execute_result"
    }
   ],
   "source": [
    "# train_set = process_data_set(['./data/datasets/Multi30k/train.de', './data/datasets/Multi30k/train.en'])\n",
    "train_set = read_data_as_iter(train_filepaths)\n",
    "train_set"
   ]
  },
  {
   "cell_type": "code",
   "execution_count": 17,
   "id": "479c6776-c281-43f6-96cb-91171ab2fe44",
   "metadata": {
    "tags": []
   },
   "outputs": [
    {
     "data": {
      "text/plain": [
       "('Zwei junge weiße Männer sind im Freien in der Nähe vieler Büsche.',\n",
       " 'Two young, White males are outside near many bushes.')"
      ]
     },
     "execution_count": 17,
     "metadata": {},
     "output_type": "execute_result"
    }
   ],
   "source": [
    "list(train_set)[0]"
   ]
  },
  {
   "cell_type": "code",
   "execution_count": 18,
   "id": "863d1dec-20d7-4cee-91f5-e5d32aa09284",
   "metadata": {
    "tags": []
   },
   "outputs": [],
   "source": [
    "train_set = read_data_as_iter(train_filepaths)\n",
    "SRC_vocab_transform = build_vocab_from_iterator(yield_tokens(train_set, SRC_tokenizer, True), min_freq=2, specials=special_symbols, special_first=True)\n",
    "\n",
    "# zip returns an iterator object. The first time you convert it to a list, the iterator is consumed\n",
    "# so we have to re-create it\n",
    "# train_set = read_data_as_iter(train_filepaths)\n",
    "TRG_vocab_transform = build_vocab_from_iterator(yield_tokens(train_set, TRG_tokenizer, False), min_freq=2, specials=special_symbols, special_first=True) "
   ]
  },
  {
   "cell_type": "code",
   "execution_count": 19,
   "id": "700d95d1-4c83-497d-9271-2e3e3be0c260",
   "metadata": {
    "tags": []
   },
   "outputs": [
    {
     "name": "stdout",
     "output_type": "stream",
     "text": [
      "test : 0\n",
      "I : 1\n",
      "coding : 2\n",
      "This : 3\n",
      "a : 4\n",
      "is : 5\n",
      "love : 6\n",
      "sentence : 7\n"
     ]
    }
   ],
   "source": [
    "from torchtext.vocab import build_vocab_from_iterator\n",
    "\n",
    "# Suppose you have two lists of English and German sentences\n",
    "english_sentences = [\"coding I I I love coding coding\", \"This is a test test test test sentence\"]\n",
    "german_sentences = [\"Ich liebe das Programmieren\", \"Dies ist ein Test-Satz\"]\n",
    "\n",
    "# Define iterators for English and German sentences\n",
    "english_iterator = (sentence.split() for sentence in english_sentences)\n",
    "german_iterator = (sentence.split() for sentence in german_sentences)\n",
    "\n",
    "# Create vocabularies for both languages\n",
    "english_vocab = build_vocab_from_iterator(english_iterator, min_freq=1)\n",
    "german_vocab = build_vocab_from_iterator(german_iterator, min_freq=1)\n",
    "\n",
    "# You can access the vocabularies like this:\n",
    "english_word_to_index = english_vocab.get_stoi()\n",
    "german_word_to_index = german_vocab.get_stoi()\n",
    "\n",
    "# Now, you have separate vocabularies for English and German sentences.\n",
    "# You can access the word-to-index mappings for each language using the respective vocabularies.\n",
    "for key, value in sorted(english_word_to_index.items(), key=lambda x: x[1]): \n",
    "    print(\"{} : {}\".format(key, value))\n",
    "# pprint(german_word_to_index)"
   ]
  },
  {
   "cell_type": "code",
   "execution_count": 20,
   "id": "ad2148ae-af7c-4869-9103-3ccbddc67001",
   "metadata": {
    "tags": []
   },
   "outputs": [],
   "source": [
    "# txt = \"ABC DEF\"\n",
    "# txt = [iter(TRG_tokenizer(txt))]\n",
    "\n",
    "# english_iterator = build_vocab_from_iterator(txt, min_freq=1)\n",
    "\n",
    "# list(english_iterator.get_stoi().items())[:10]\n"
   ]
  },
  {
   "cell_type": "code",
   "execution_count": 21,
   "id": "c0c45fb9-2ade-434b-b78c-502129d77299",
   "metadata": {
    "tags": []
   },
   "outputs": [],
   "source": [
    "# from torchtext.datasets import multi30k\n",
    "\n",
    "# # multi30k.URL[\"train\"] = \"https://raw.githubusercontent.com/neychev/small_DL_repo/master/datasets/Multi30k/training.tar.gz\"\n",
    "# # multi30k.URL[\"valid\"] = \"https://raw.githubusercontent.com/neychev/small_DL_repo/master/datasets/Multi30k/validation.tar.gz\"\n",
    "# # multi30k.URL[\"test\"] = \"https://raw.githubusercontent.com/neychev/small_DL_repo/master/datasets/Multi30k/mmt16_task1_test.tar.gz\"\n",
    "\n",
    "# # # multi30k.URL[\"train\"] = \"http://www.quest.dcs.shef.ac.uk/wmt16_files_mmt/training.tar.gz\"\n",
    "# # # multi30k.URL[\"valid\"] = \"http://www.quest.dcs.shef.ac.uk/wmt16_files_mmt/validation.tar.gz\"\n",
    "# # # multi30k.URL[\"test\"] = \"http://www.quest.dcs.shef.ac.uk/wmt16_files_mmt/mmt16_task1_test.tar.gz\"\n",
    "\n",
    "# train_set = Multi30k(split='train', language_pair=('de', 'en'), root='data')\n",
    "# SRC_vocab_transform = build_vocab_from_iterator(yield_tokens(train_set, SRC_tokenizer, True), min_freq=2, specials=special_symbols, special_first=True)\n",
    "# # # reset train_set\n",
    "# # train_set = Multi30k(split='train', language_pair=('de', 'en'))\n",
    "# TRG_vocab_transform = build_vocab_from_iterator(yield_tokens(train_set, TRG_tokenizer, False), min_freq=2, specials=special_symbols, special_first=True) "
   ]
  },
  {
   "cell_type": "markdown",
   "id": "e312e618-1652-4bb0-b91e-6d8ba14029e3",
   "metadata": {},
   "source": [
    "Default_index is returned when the token is not in vocabulary. \n",
    " * Set `<unk>` token index to default index to convert words that appear once into `<unk>` token\n"
   ]
  },
  {
   "cell_type": "code",
   "execution_count": 22,
   "id": "db9f1219-76c4-4a94-b61a-01a5d267155f",
   "metadata": {
    "tags": []
   },
   "outputs": [],
   "source": [
    "SRC_vocab_transform.set_default_index(SRC_vocab_transform['<unk>'])\n",
    "TRG_vocab_transform.set_default_index(TRG_vocab_transform['<unk>'])"
   ]
  },
  {
   "cell_type": "code",
   "execution_count": 23,
   "id": "4e5d8319-d5f6-4559-ba90-3854f87e3ead",
   "metadata": {
    "tags": []
   },
   "outputs": [
    {
     "data": {
      "text/plain": [
       "[('zune', 5892),\n",
       " ('zigzag', 5890),\n",
       " ('ymca', 5889),\n",
       " ('wrestles', 5885),\n",
       " ('wrench', 5884),\n",
       " ('wounds', 5882),\n",
       " ('worried', 5880),\n",
       " ('worn', 5879),\n",
       " ('worked', 5878),\n",
       " ('wok', 5876)]"
      ]
     },
     "execution_count": 23,
     "metadata": {},
     "output_type": "execute_result"
    }
   ],
   "source": [
    "list(TRG_vocab_transform.get_stoi().items())[:10]\n",
    "# sorted(TRG_vocab_transform.get_stoi().items(), key=lambda x: x[1], reverse = True)"
   ]
  },
  {
   "cell_type": "code",
   "execution_count": 24,
   "id": "260d481c-2470-4d26-8a05-bab26c225ba6",
   "metadata": {
    "tags": []
   },
   "outputs": [
    {
     "name": "stdout",
     "output_type": "stream",
     "text": [
      "Unique tokens in source (de) vocabulary: 7853\n",
      "Unique tokens in target (en) vocabulary: 5893\n"
     ]
    }
   ],
   "source": [
    "print(f\"Unique tokens in source (de) vocabulary: {len(SRC_vocab_transform)}\")\n",
    "print(f\"Unique tokens in target (en) vocabulary: {len(TRG_vocab_transform)}\")"
   ]
  },
  {
   "cell_type": "markdown",
   "id": "cf58f661-dd8b-4f2e-9d35-16711f864dfb",
   "metadata": {},
   "source": [
    "Next, we download and load the train, validation and test data.\n",
    "\n",
    "The dataset we'll be using is the Multi30k dataset. This is a dataset with ~30,000 parallel English, German and French sentences, each with ~12 words per sentence.\n",
    "\n",
    "`language_pair` specifies which languages to use as the source and target (source goes first)\n",
    "\n"
   ]
  },
  {
   "cell_type": "code",
   "execution_count": 25,
   "id": "62b93ad4-586a-4a83-aebd-47edf45641ee",
   "metadata": {
    "tags": []
   },
   "outputs": [],
   "source": [
    "train_data = train_set\n",
    "valid_data = read_data_as_iter(val_filepaths)\n",
    "test_data = read_data_as_iter(test_filepaths)"
   ]
  },
  {
   "cell_type": "code",
   "execution_count": 26,
   "id": "ef4a67fc-2b55-4c49-afaf-b3e20e8c7d51",
   "metadata": {
    "tags": []
   },
   "outputs": [],
   "source": [
    "# import codecs  # Import the 'codecs' module\n",
    "\n",
    "# # Define a custom data loading function that reads the data with the correct encoding\n",
    "# def load_custom_multi30k(split, language_pair, root):\n",
    "#     file_path = f'{root}/datasets/Multi30k/{split}.{language_pair[0]}'\n",
    "\n",
    "#     # Read the data with the detected encoding\n",
    "#     with codecs.open(file_path, 'r', encoding='utf-8') as file:\n",
    "#         data = [line.strip() for line in file]\n",
    "\n",
    "#     return data\n",
    "\n",
    "# # Load the Multi30k dataset using the custom data loading function\n",
    "# # valid_data = load_custom_multi30k(split='val', language_pair=('de', 'en'), root='.data')\n",
    "# test_data = load_custom_multi30k(split='test_2016_flickr', language_pair=('de', 'en'), root='data')\n"
   ]
  },
  {
   "cell_type": "code",
   "execution_count": 27,
   "id": "7fbdc3af-4016-4c3c-bb30-7a1d6982e2a2",
   "metadata": {
    "tags": []
   },
   "outputs": [
    {
     "name": "stdout",
     "output_type": "stream",
     "text": [
      "Number of training examples: 29000\n",
      "Number of validation examples: 1014\n",
      "Number of testing examples: 1000\n"
     ]
    }
   ],
   "source": [
    "print(f\"Number of training examples: {len(list(train_data))}\")\n",
    "print(f\"Number of validation examples: {len(list(valid_data))}\")\n",
    "print(f\"Number of testing examples: {len(list(test_data))}\")"
   ]
  },
  {
   "cell_type": "markdown",
   "id": "7f821047-3975-4e64-b033-1a05e70e1863",
   "metadata": {},
   "source": [
    "We can also print out an example. It is one of the original sentence pairs from the dataset."
   ]
  },
  {
   "cell_type": "code",
   "execution_count": 28,
   "id": "91e4359a-1ff6-42c3-b1d7-01b312f00de0",
   "metadata": {
    "tags": []
   },
   "outputs": [
    {
     "name": "stdout",
     "output_type": "stream",
     "text": [
      "Zwei junge weiße Männer sind im Freien in der Nähe vieler Büsche.\n",
      "Two young, White males are outside near many bushes.\n"
     ]
    }
   ],
   "source": [
    "print(list(train_data)[0][0])\n",
    "print(list(train_data)[0][1])"
   ]
  },
  {
   "cell_type": "markdown",
   "id": "b06e833b-27e6-4ed3-b63b-4292cbb4cf72",
   "metadata": {},
   "source": [
    "#### below is some practices to deepen my understanding. you can ignore it."
   ]
  },
  {
   "cell_type": "code",
   "execution_count": 29,
   "id": "97c6a960-900c-4b50-ae0e-8fa77a4e2737",
   "metadata": {
    "tags": []
   },
   "outputs": [],
   "source": [
    "# one_example = []\n",
    "# for i in train_data:\n",
    "#     one_example = TRG_tokenizer(i[1])\n",
    "#     print(one_example)\n",
    "#     print(len(one_example))\n",
    "#     break"
   ]
  },
  {
   "cell_type": "code",
   "execution_count": 30,
   "id": "add49982-aa4f-4a52-9781-30d1d9d46689",
   "metadata": {
    "tags": []
   },
   "outputs": [],
   "source": [
    "# print(TRG_vocab_transform(one_example))\n",
    "# print(len(TRG_vocab_transform(one_example)))"
   ]
  },
  {
   "cell_type": "code",
   "execution_count": 31,
   "id": "e9c1ddd4-8c09-4d3b-b494-7c9c194d6557",
   "metadata": {
    "tags": []
   },
   "outputs": [],
   "source": [
    "# from collections import Counter\n",
    "# import io\n",
    "# from torchtext.vocab import vocab\n",
    "\n",
    "\n",
    "# de_tokenizer = get_tokenizer('spacy', language='de')\n",
    "# en_tokenizer = get_tokenizer('spacy', language='en')\n",
    "\n",
    "# def build_vocab(filepath, tokenizer):\n",
    "#   counter = Counter()\n",
    "#   with io.open(filepath, encoding=\"utf8\") as f:\n",
    "#     for string_ in f:\n",
    "#       counter.update(tokenizer(string_))\n",
    "#   return vocab(counter, specials=['<unk>', '<pad>', '<bos>', '<eos>'])\n",
    "\n",
    "# de_vocab = build_vocab(train_filepaths[0], de_tokenizer)\n",
    "# en_vocab = build_vocab(train_filepaths[1], en_tokenizer)\n",
    "# # en_vocab = build_vocab('./test.txt', en_tokenizer)\n",
    "\n",
    "# def data_process(filepaths):\n",
    "#   raw_de_iter = iter(io.open(filepaths[0], encoding=\"utf8\"))\n",
    "#   raw_en_iter = iter(io.open(filepaths[1], encoding=\"utf8\"))\n",
    "#   data = []\n",
    "#   for (raw_de, raw_en) in zip(raw_de_iter, raw_en_iter):\n",
    "#     de_tensor_ = torch.tensor([de_vocab[token] for token in de_tokenizer(raw_de)],\n",
    "#                             dtype=torch.long)\n",
    "#     en_tensor_ = torch.tensor([en_vocab[token] for token in en_tokenizer(raw_en)],\n",
    "#                             dtype=torch.long)\n",
    "#     data.append((de_tensor_, en_tensor_))\n",
    "#   return data\n",
    "\n",
    "\n",
    "# de_vocab.set_default_index(de_vocab['<unk>'])\n",
    "# en_vocab.set_default_index(en_vocab['<unk>'])\n",
    "\n",
    "# # train_data = data_process(train_filepaths)"
   ]
  },
  {
   "cell_type": "code",
   "execution_count": 32,
   "id": "0a7485e2-394c-4218-aa5b-9d299c953264",
   "metadata": {
    "tags": []
   },
   "outputs": [],
   "source": [
    "# myDict = TRG_vocab_transform.get_stoi()\n",
    "# keys = list(myDict.keys())\n",
    "# values = list(myDict.values())\n",
    "# sorted_value_index = np.argsort(values)\n",
    "# sorted_dict = {keys[i]: values[i] for i in sorted_value_index}\n",
    " \n",
    "# print({k: sorted_dict[k] for k in list(sorted_dict)[:20]})"
   ]
  },
  {
   "cell_type": "code",
   "execution_count": 33,
   "id": "abda844f-7d85-4a14-87e3-d9a41e586d14",
   "metadata": {
    "tags": []
   },
   "outputs": [],
   "source": [
    "# print(en_vocab(['two', 'young', ',', 'a', 'males', 'are', 'outside', 'near', 'many', 'bushes', '.']\n",
    "# ))"
   ]
  },
  {
   "cell_type": "code",
   "execution_count": 34,
   "id": "4eec3825-c400-4270-9856-b42bf73392ef",
   "metadata": {
    "tags": []
   },
   "outputs": [],
   "source": [
    "# train_filepaths"
   ]
  },
  {
   "cell_type": "code",
   "execution_count": 35,
   "id": "1ba95539-6156-48df-8dad-e7a20d0e973c",
   "metadata": {
    "tags": []
   },
   "outputs": [],
   "source": [
    "# myDict = en_vocab.get_stoi()\n",
    "# keys = list(myDict.keys())\n",
    "# values = list(myDict.values())\n",
    "# sorted_value_index = np.argsort(values)\n",
    "# sorted_dict = {keys[i]: values[i] for i in sorted_value_index}\n",
    " \n",
    "# print({k: sorted_dict[k] for k in list(sorted_dict)[:20]})"
   ]
  },
  {
   "cell_type": "code",
   "execution_count": 36,
   "id": "3217bc5d-e759-49f1-aa2b-43ab38c2cb81",
   "metadata": {
    "tags": []
   },
   "outputs": [],
   "source": [
    "# print(f\"Unique tokens in source (de) vocabulary: {len(de_vocab)}, {len(SRC_vocab_transform)}\")\n",
    "# print(f\"Unique tokens in target (en) vocabulary: {len(en_vocab)}, {len(TRG_vocab_transform)}\")\n",
    "# difference is due to captial and small letters in the word and infrequent words."
   ]
  },
  {
   "cell_type": "code",
   "execution_count": 37,
   "id": "c5f701e9-2d92-4f58-8816-4efeaf8bb4f4",
   "metadata": {
    "tags": []
   },
   "outputs": [],
   "source": [
    "# keys_dict1 = set(en_vocab.get_stoi().keys())\n",
    "# keys_dict2 = set(TRG_vocab_transform.get_stoi().keys())\n",
    "\n",
    "# keys_only_in_dict1 = keys_dict1 - keys_dict2\n",
    "# keys_only_in_dict2 = keys_dict2 - keys_dict1\n",
    "\n",
    "# print(\"Keys only in dict1:\", list(keys_only_in_dict1)[:20])\n",
    "# print(\"Keys only in dict2:\", list(keys_only_in_dict2)[:20])\n"
   ]
  },
  {
   "cell_type": "code",
   "execution_count": 38,
   "id": "a4aacad2-e990-4072-a2a5-10a0e8453a60",
   "metadata": {
    "tags": []
   },
   "outputs": [],
   "source": [
    "# c = Counter([\"a\", \"a\", \"b\", \"b\", \"b\", \"c\", \"c\"])\n",
    "# c.update(([\"a\", \"a\", \"b\", \"b\", \"d\", \"c\", \"c\"]))\n",
    "# print(c)\n",
    "# vocab(c).get_stoi()\n",
    "# # I have learnt that vocab won't sort the dictionary by the counter to give the index to each word.\n",
    "# # we have to sort by value then pass it to vocab"
   ]
  },
  {
   "cell_type": "code",
   "execution_count": null,
   "id": "ec019696-012f-4a71-b411-49ab95db70fe",
   "metadata": {},
   "outputs": [],
   "source": []
  },
  {
   "cell_type": "markdown",
   "id": "4e6916bd-bef4-4766-aa1a-dc0ab79e154c",
   "metadata": {},
   "source": [
    "The final step of preparing the data is to create the iterators. These can be iterated on to return a batch of data which will have a `src` attribute (the PyTorch tensors containing a batch of numericalized source sentences) and a `trg` attribute (the PyTorch tensors containing a batch of numericalized target sentences). Numericalized is just a fancy way of saying they have been converted from a sequence of readable tokens to a sequence of corresponding indexes, using the vocabulary.\n",
    "\n",
    "We also need to define a `torch.device`. This is used to tell torchText to put the tensors on the GPU or not. We use the `torch.cuda.is_available()` function, which will return `True` if a GPU is detected on our computer. We pass this `device` to the iterator.\n",
    "\n",
    "When we get a batch of examples using an iterator we need to make sure that all of the source sentences are padded to the same length, the same with the target sentences. New version of torchtext is not handling this for us. This will be done via `pad_sequence` function in `torch.nn.utils.rnn` module.\n",
    "\n",
    "`DataLoader` in `torch.utils.data` has replaced BucketIterator. Working in conjunction with `collate_fn`, whenever dataloader has created a batch, it will call `collate_fn(batch)`. By implementing `pad_sequence` in `collate_fn`, we will minimize the amount of padding in both the source and target sentences as each batch will have different paddings according to their max sentence length. In addition, we will also reverse sentence and transform sentence into indexes with `<sos>` and `<eos>` token in `collate_fn`."
   ]
  },
  {
   "cell_type": "markdown",
   "id": "997c696e-28bd-439a-a3d7-f7fcff5c1daa",
   "metadata": {},
   "source": [
    "_you can modify the DataLoader to read a custom number of words as each sample, regardless of the number of lines in the original text. To achieve this, you would need to customize the collate_fn function._"
   ]
  },
  {
   "cell_type": "code",
   "execution_count": 39,
   "id": "4639d35f-e5a0-407a-a2c3-7d1df5e97a99",
   "metadata": {
    "tags": []
   },
   "outputs": [],
   "source": [
    "device = torch.device('cuda' if torch.cuda.is_available() else 'cpu')"
   ]
  },
  {
   "cell_type": "code",
   "execution_count": 40,
   "id": "a1c9ecf3-6c0a-4443-8a2a-2439ab5985cc",
   "metadata": {
    "tags": []
   },
   "outputs": [],
   "source": [
    "import logging\n",
    "\n",
    "logging.basicConfig(level=logging.INFO, format='%(asctime)s - %(levelname)s - %(message)s', handlers=[logging.StreamHandler()])\n",
    "\n",
    "\n",
    "from torch.utils.data import DataLoader\n",
    "from torch.nn.utils.rnn import pad_sequence\n",
    "#function to add '<sos>' and '<eos>'\n",
    "def add_symbols(sentence, transform):\n",
    "    sos = torch.tensor([transform['<sos>']])\n",
    "    eos = torch.tensor([transform['<eos>']])\n",
    "    return torch.cat((sos,sentence,eos))\n",
    "def generate_batch(batch):\n",
    "    src_batch = []\n",
    "    trg_batch = []\n",
    "    src_len = []\n",
    "    i = 0\n",
    "    # print(type(batch))\n",
    "    for src, trg in batch:\n",
    "        i += 1\n",
    "        #split sentence into tokens\n",
    "        src_tensor = SRC_tokenizer(src.rstrip(\"\\n\"))\n",
    "        # logging.info(f'iteration {i}:\\n {src}'); # why prints 3 times while batch is 1?\n",
    "        trg_tensor = SRC_tokenizer(trg.rstrip(\"\\n\"))\n",
    "        #convert tokens to index and to tensor and add <sos> and <eos> to each sentence\n",
    "        src_tensor = add_symbols(torch.tensor(SRC_vocab_transform(src_tensor)), SRC_vocab_transform)\n",
    "        trg_tensor = add_symbols(torch.tensor(TRG_vocab_transform(trg_tensor)), TRG_vocab_transform)\n",
    "        src_batch.append(src_tensor)\n",
    "        #track length of each source sentence, not useful in this model. Will be useful in further models\n",
    "        src_len.append(len(src_tensor))\n",
    "        trg_batch.append(trg_tensor)\n",
    "        # logging.info(f'iteration {i}:\\n {(src_tensor)}');\n",
    "    src_len = torch.tensor(src_len, dtype = torch.int)\n",
    "    src_batch = pad_sequence(src_batch, padding_value=SRC_vocab_transform['<pad>'])\n",
    "    trg_batch = pad_sequence(trg_batch, padding_value=SRC_vocab_transform['<pad>'])\n",
    "    src_len, idx = torch.sort(src_len,descending=True)\n",
    "    #src_len is not useful in this model\n",
    "    # logging.error(f'{len(src_batch)}')\n",
    "    return src_batch, src_len, trg_batch"
   ]
  },
  {
   "cell_type": "code",
   "execution_count": 41,
   "id": "0ca29f61-3fd4-4168-831b-04ae06be6f9e",
   "metadata": {
    "tags": []
   },
   "outputs": [
    {
     "data": {
      "text/plain": [
       "torch.utils.data.datapipes.iter.grouping.ShardingFilterIterDataPipe"
      ]
     },
     "execution_count": 41,
     "metadata": {},
     "output_type": "execute_result"
    }
   ],
   "source": [
    "type(train_data)"
   ]
  },
  {
   "cell_type": "code",
   "execution_count": 42,
   "id": "2c1a67d7-976e-4e81-9431-d0ad200aefe5",
   "metadata": {},
   "outputs": [],
   "source": [
    "BATCH_SIZE = 128\n",
    "\n",
    "train_dataloader = DataLoader(train_data, batch_size=10, collate_fn=generate_batch)\n",
    "# valid_dataloader = DataLoader(valid_data, batch_size=BATCH_SIZE, collate_fn=generate_batch)"
   ]
  },
  {
   "cell_type": "code",
   "execution_count": 43,
   "id": "52c2db05-a5eb-439c-a419-772576ab7656",
   "metadata": {
    "tags": []
   },
   "outputs": [
    {
     "name": "stdout",
     "output_type": "stream",
     "text": [
      "10\n",
      "2900\n"
     ]
    }
   ],
   "source": [
    "sr, srlen, tg = (next(iter(train_dataloader)))\n",
    "print(len(srlen))\n",
    "print(len(list(train_dataloader)))"
   ]
  },
  {
   "cell_type": "code",
   "execution_count": 44,
   "id": "83b83f13-dd47-424a-a6d8-0e5bdf13b0f8",
   "metadata": {
    "tags": []
   },
   "outputs": [
    {
     "data": {
      "text/plain": [
       "tensor([[   2,    2,    2,    2,    2,    2,    2,    2,    2,    2],\n",
       "        [   4,    4,    4,    4,    4,    4,    4,    4,    4,    4],\n",
       "        [3171,    0,  499,  248,   28, 1676,   21,    0,  117, 1191],\n",
       "        [7647,    5,   56,    5,  111,   40, 4838,   34,  563,   12],\n",
       "        [ 110, 2068, 7314,  681,  400,  132, 4319,   17,    6,  521],\n",
       "        [  15,  831,    5,   10,   10,   13,   19, 3890,   21,   15],\n",
       "        [   7,   11,    7,  535, 1338,  101,  169,   99,   60,    7],\n",
       "        [  88,   30,  217,   14,   55,   15,   13,   35, 1389,  326],\n",
       "        [  20,   76,   25,   12,   52,   35,    5,  277,   78,  262],\n",
       "        [  84,    3,   66,   29,   30,    9,    3,   24,   14,   80],\n",
       "        [  30,    1,    5,   40,   18,  129,    1,   11,   11,    3],\n",
       "        [ 253,    1,    3,   46,    3,    8,    1,  183,   16,    1],\n",
       "        [  26,    1,    1,    6,    1,   37,    1,   25,    8,    1],\n",
       "        [  18,    1,    1,    7,    1,  518,    1, 4037,    3,    1],\n",
       "        [   3,    1,    1,   13,    1,    7,    1,    5,    1,    1],\n",
       "        [   1,    1,    1,    5,    1,   13,    1,    3,    1,    1],\n",
       "        [   1,    1,    1,    3,    1,    5,    1,    1,    1,    1],\n",
       "        [   1,    1,    1,    1,    1,    3,    1,    1,    1,    1]])"
      ]
     },
     "execution_count": 44,
     "metadata": {},
     "output_type": "execute_result"
    }
   ],
   "source": [
    "(sr)"
   ]
  },
  {
   "cell_type": "code",
   "execution_count": 45,
   "id": "4f12ab87-0f2b-47d6-aef4-fb6014da0846",
   "metadata": {
    "tags": []
   },
   "outputs": [
    {
     "data": {
      "text/plain": [
       "tensor(30)"
      ]
     },
     "execution_count": 45,
     "metadata": {},
     "output_type": "execute_result"
    }
   ],
   "source": [
    "(sr[10][0])"
   ]
  },
  {
   "cell_type": "code",
   "execution_count": 46,
   "id": "de6831af-14bc-48d2-a4eb-f780cc6cf1f7",
   "metadata": {},
   "outputs": [],
   "source": [
    "BATCH_SIZE = 128\n",
    "\n",
    "train_dataloader = DataLoader(train_data, batch_size=BATCH_SIZE, collate_fn=generate_batch)\n",
    "valid_dataloader = DataLoader(valid_data, batch_size=BATCH_SIZE, collate_fn=generate_batch)"
   ]
  },
  {
   "cell_type": "markdown",
   "id": "90a62e36-a962-4924-9680-401c016687e9",
   "metadata": {},
   "source": [
    "## Building the Seq2Seq Model"
   ]
  },
  {
   "cell_type": "markdown",
   "id": "693b277f-339e-4058-b700-2330876983bb",
   "metadata": {},
   "source": [
    "We'll be building our model in three parts. The encoder, the decoder and a seq2seq model that encapsulates the encoder and decoder and will provide a way to interface with each.\n",
    "\n"
   ]
  },
  {
   "cell_type": "markdown",
   "id": "24c3bf84-6163-47de-9b5c-038d779ae86f",
   "metadata": {
    "tags": []
   },
   "source": [
    "### Encoder"
   ]
  },
  {
   "cell_type": "markdown",
   "id": "d64735a1-5a0e-47fd-8b30-63a6c27c4e9d",
   "metadata": {},
   "source": [
    "\n",
    "First, the encoder, a 2 layer LSTM. The paper we are implementing uses a 4-layer LSTM, but in the interest of training time we cut this down to 2-layers. The concept of multi-layer RNNs is easy to expand from 2 to 4 layers. \n",
    "\n",
    "For a multi-layer RNN, the input sentence, $X$, after being embedded goes into the first (bottom) layer of the RNN and hidden states, $H=\\{h_1, h_2, ..., h_T\\}$, output by this layer are used as inputs to the RNN in the layer above. Thus, representing each layer with a superscript, the hidden states in the first layer are given by:\n",
    "\n",
    "$$h_t^1 = \\text{EncoderRNN}^1(e(x_t), h_{t-1}^1)$$\n",
    "\n",
    "The hidden states in the second layer are given by:\n",
    "\n",
    "$$h_t^2 = \\text{EncoderRNN}^2(h_t^1, h_{t-1}^2)$$\n",
    "\n",
    "Using a multi-layer RNN also means we'll also need an initial hidden state as input per layer, $h_0^l$, and we will also output a context vector per layer, $z^l$.\n",
    "\n",
    "Without going into too much detail about LSTMs (see [this](https://colah.github.io/posts/2015-08-Understanding-LSTMs/) blog post to learn more about them), all we need to know is that they're a type of RNN which instead of just taking in a hidden state and returning a new hidden state per time-step, also take in and return a *cell state*, $c_t$, per time-step.\n",
    "\n",
    "$$h_t = \\text{RNN}(e(x_t), h_{t-1})$$\n",
    "\n",
    "$$(h_t, c_t) = \\text{LSTM}(e(x_t), h_{t-1}, c_{t-1})$$\n",
    "\n",
    "We can just think of $c_t$ as another type of hidden state. Similar to $h_0^l$, $c_0^l$ will be initialized to a tensor of all zeros. Also, our context vector will now be both the final hidden state and the final cell state, i.e. $z^l = (h_T^l, c_T^l)$.\n",
    "\n",
    "Extending our multi-layer equations to LSTMs, we get:\n",
    "\n",
    "$$(h_t^1, c_t^1) = \\text{EncoderLSTM}^1(e(x_t), (h_{t-1}^1, c_{t-1}^1))$$\n",
    "\n",
    "$$(h_t^2, c_t^2) = \\text{EncoderLSTM}^2(h_t^1, (h_{t-1}^2, c_{t-1}^2))$$\n",
    "\n",
    "\n",
    "Note how only our hidden state from the first layer is passed as input to the second layer, and not the cell state.\n",
    "\n",
    "So our encoder looks something like this: \n",
    "\n",
    "![](assets/seq2seq2.png)\n",
    "\n",
    "We create this in code by making an `Encoder` module, which requires we inherit from `torch.nn.Module` and use the `super().__init__()` as some boilerplate code. The encoder takes the following arguments:\n",
    "- `input_dim` is the size/dimensionality of the one-hot vectors that will be input to the encoder. This is equal to the input (source) vocabulary size.\n",
    "- `emb_dim` is the dimensionality of the embedding layer. This layer converts the one-hot vectors into dense vectors with `emb_dim` dimensions. \n",
    "- `hid_dim` is the dimensionality of the hidden and cell states.\n",
    "- `n_layers` is the number of layers in the RNN.\n",
    "- `dropout` is the amount of dropout to use. This is a regularization parameter to prevent overfitting. Check out [this](https://www.coursera.org/lecture/deep-neural-network/understanding-dropout-YaGbR) for more details about dropout.\n",
    "\n",
    "We aren't going to discuss the embedding layer in detail during these tutorials. All we need to know is that there is a step before the words - technically, the indexes of the words - are passed into the RNN, where the words are transformed into vectors. To read more about word embeddings, check these articles: [1](https://monkeylearn.com/blog/word-embeddings-transform-text-numbers/), [2](http://p.migdal.pl/2017/01/06/king-man-woman-queen-why.html), [3](http://mccormickml.com/2016/04/19/word2vec-tutorial-the-skip-gram-model/), [4](http://mccormickml.com/2017/01/11/word2vec-tutorial-part-2-negative-sampling/). \n",
    "\n",
    "The embedding layer is created using `nn.Embedding`, the LSTM with `nn.LSTM` and a dropout layer with `nn.Dropout`. Check the PyTorch [documentation](https://pytorch.org/docs/stable/nn.html) for more about these.\n",
    "\n",
    "One thing to note is that the `dropout` argument to the LSTM is how much dropout to apply between the layers of a multi-layer RNN, i.e. between the hidden states output from layer $l$ and those same hidden states being used for the input of layer $l+1$.\n",
    "\n",
    "In the `forward` method, we pass in the source sentence, $X$, which is converted into dense vectors using the `embedding` layer, and then dropout is applied. These embeddings are then passed into the RNN. As we pass a whole sequence to the RNN, it will automatically do the recurrent calculation of the hidden states over the whole sequence for us! Notice that we do not pass an initial hidden or cell state to the RNN. This is because, as noted in the [documentation](https://pytorch.org/docs/stable/nn.html#torch.nn.LSTM), that if no hidden/cell state is passed to the RNN, it will automatically create an initial hidden/cell state as a tensor of all zeros. \n",
    "\n",
    "The RNN returns: `outputs` (the top-layer hidden state for each time-step), `hidden` (the final hidden state for each layer, $h_T$, stacked on top of each other) and `cell` (the final cell state for each layer, $c_T$, stacked on top of each other).\n",
    "\n",
    "As we only need the final hidden and cell states (to make our context vector), `forward` only returns `hidden` and `cell`. \n",
    "\n",
    "The sizes of each of the tensors is left as comments in the code. In this implementation `n_directions` will always be 1, however note that bidirectional RNNs (covered in tutorial 3) will have `n_directions` as 2."
   ]
  },
  {
   "cell_type": "code",
   "execution_count": 47,
   "id": "b60a37f0-a9e3-4cf6-8cea-e839a1804a46",
   "metadata": {
    "tags": []
   },
   "outputs": [],
   "source": [
    "class Encoder(nn.Module):\n",
    "    def __init__(self, input_dim, emb_dim, hid_dim, n_layers, dropout):\n",
    "        super().__init__()\n",
    "\n",
    "        self.hid_dim = hid_dim\n",
    "        self.n_layers = n_layers\n",
    "        \n",
    "        self.embedding = nn.Embedding(input_dim, emb_dim)\n",
    "        \n",
    "        self.rnn = nn.LSTM(emb_dim, hid_dim, n_layers, dropout = dropout)\n",
    "        \n",
    "        self.dropout = nn.Dropout(dropout)\n",
    "    \n",
    "    def forward(self, src):\n",
    "        # src = [src len, batch size]\n",
    "        \n",
    "        embedded = self.dropout(self.embedding(src))\n",
    "        \n",
    "        # embedded = [src len, batch size, emb dim]\n",
    "        \n",
    "        outputs, (hidden, cell) = self.rnn(embedded)\n",
    "        \n",
    "        # outputs = [src len, batch size, hid dim * n directions]\n",
    "        # hidden = [n layers * n directions, batch size, hid dim]\n",
    "        # cell = [n layers * n directions, batch size, hid dim]\n",
    "        \n",
    "        # outputs are always from the top hidden layer\n",
    "        \n",
    "        return hidden, cell"
   ]
  },
  {
   "cell_type": "markdown",
   "id": "cb693d1e-56eb-4bcc-b7a1-bf434ea39514",
   "metadata": {},
   "source": [
    "### Decoder"
   ]
  },
  {
   "cell_type": "markdown",
   "id": "7da4fac6-a0a1-4976-be38-8f2995792daf",
   "metadata": {},
   "source": [
    "\n",
    "Next, we'll build our decoder, which will also be a 2-layer (4 in the paper) LSTM.\n",
    "\n",
    "![](assets/seq2seq3.png)\n",
    "\n",
    "The `Decoder` class does a single step of decoding, i.e. it ouputs single token per time-step. The first layer will receive a hidden and cell state from the previous time-step, $(s_{t-1}^1, c_{t-1}^1)$, and feeds it through the LSTM with the current embedded token, $y_t$, to produce a new hidden and cell state, $(s_t^1, c_t^1)$. The subsequent layers will use the hidden state from the layer below, $s_t^{l-1}$, and the previous hidden and cell states from their layer, $(s_{t-1}^l, c_{t-1}^l)$. This provides equations very similar to those in the encoder.\n",
    "\n",
    "$$(s_t^1, c_t^1) = \\text{DecoderLSTM}^1(d(y_t), (s_{t-1}^1, c_{t-1}^1))$$\n",
    "$$(s_t^2, c_t^2) = \\text{DecoderLSTM}^2(s_t^1, (s_{t-1}^2, c_{t-1}^2))$$\n",
    "\n",
    "Remember that the initial hidden and cell states to our decoder are our context vectors, which are the final hidden and cell states of our encoder from the same layer, i.e. $(s_0^l,c_0^l)=z^l=(h_T^l,c_T^l)$.\n",
    "\n",
    "We then pass the hidden state from the top layer of the RNN, $s_t^L$, through a linear layer, $f$, to make a prediction of what the next token in the target (output) sequence should be, $\\hat{y}_{t+1}$. \n",
    "\n",
    "$$\\hat{y}_{t+1} = f(s_t^L)$$\n",
    "\n",
    "The arguments and initialization are similar to the `Encoder` class, except we now have an `output_dim` which is the size of the vocabulary for the output/target. There is also the addition of the `Linear` layer, used to make the predictions from the top layer hidden state.\n",
    "\n",
    "Within the `forward` method, we accept a batch of input tokens, previous hidden states and previous cell states. As we are only decoding one token at a time, the input tokens will always have a sequence length of 1. We `unsqueeze` the input tokens to add a sentence length dimension of 1. Then, similar to the encoder, we pass through an embedding layer and apply dropout. This batch of embedded tokens is then passed into the RNN with the previous hidden and cell states. This produces an `output` (hidden state from the top layer of the RNN), a new `hidden` state (one for each layer, stacked on top of each other) and a new `cell` state (also one per layer, stacked on top of each other). We then pass the `output` (after getting rid of the sentence length dimension) through the linear layer to receive our `prediction`. We then return the `prediction`, the new `hidden` state and the new `cell` state.\n",
    "\n",
    "**Note**: as we always have a sequence length of 1, we could use `nn.LSTMCell`, instead of `nn.LSTM`, as it is designed to handle a batch of inputs that aren't necessarily in a sequence. `nn.LSTMCell` is just a single cell and `nn.LSTM` is a wrapper around potentially multiple cells. Using the `nn.LSTMCell` in this case would mean we don't have to `unsqueeze` to add a fake sequence length dimension, but we would need one `nn.LSTMCell` per layer in the decoder and to ensure each `nn.LSTMCell` receives the correct initial hidden state from the encoder. All of this makes the code less concise - hence the decision to stick with the regular `nn.LSTM`."
   ]
  },
  {
   "cell_type": "code",
   "execution_count": 48,
   "id": "b798c0e6-75af-4f15-829f-017934c209bc",
   "metadata": {
    "tags": []
   },
   "outputs": [],
   "source": [
    "class Decoder(nn.Module):\n",
    "    def __init__(self, output_dim, emb_dim, hid_dim, n_layers, dropout):\n",
    "        super().__init__()\n",
    "        \n",
    "        self.output_dim = output_dim\n",
    "        self.hid_dim = hid_dim\n",
    "        self.n_layers = n_layers\n",
    "        \n",
    "        self.embedding = nn.Embedding(output_dim, emb_dim)\n",
    "        \n",
    "        self.rnn = nn.LSTM(emb_dim, hid_dim, n_layers, dropout=dropout)\n",
    "        \n",
    "        self.fc_out = nn.Linear(hid_dim, output_dim)\n",
    "        \n",
    "        self.dropout = nn.Dropout(dropout)\n",
    "    \n",
    "    def forward(self, input, hidden, cell):\n",
    "        # input = [batch size]\n",
    "        # hidden = [n layers * n directions, batch size, hid dim]\n",
    "        # cell = [n layers * n directions, batch size, hid dim]\n",
    "        \n",
    "        # n directions in the decoder will both always be 1, therefore:\n",
    "        # hidden = [n layers, batch size, hid dim]\n",
    "        # context = [n layers, batch size, hid dim]\n",
    "        \n",
    "        input = input.unsqueeze(0)\n",
    "        \n",
    "        # input = [1, batch size]\n",
    "        \n",
    "        embedded = self.dropout(self.embedding(input))\n",
    "        \n",
    "        # embedded = [1, batch size, emb dim]\n",
    "        \n",
    "        output, (hidden, cell) = self.rnn(embedded, (hidden, cell))\n",
    "        \n",
    "        #output = [seq len, batch size, hid dim * n directions]\n",
    "        #hidden = [n layers * n directions, batch size, hid dim]\n",
    "        #cell = [n layers * n directions, batch size, hid dim]\n",
    "        \n",
    "        #seq len and n directions will always be 1 in the decoder, therefore:\n",
    "        #output = [1, batch size, hid dim]\n",
    "        #hidden = [n layers, batch size, hid dim]\n",
    "        #cell = [n layers, batch size, hid dim]\n",
    "        \n",
    "        prediction = self.fc_out(output.squeeze(0))\n",
    "        \n",
    "        # prediction = [batch size, output dim]\n",
    "        \n",
    "        return prediction, hidden, cell"
   ]
  },
  {
   "cell_type": "markdown",
   "id": "89453fcf-b2b9-4c44-902e-3914732a1af7",
   "metadata": {},
   "source": [
    "### Seq2Seq"
   ]
  },
  {
   "cell_type": "markdown",
   "id": "9bd26f33-4938-49c7-9407-83972b186345",
   "metadata": {},
   "source": [
    "\n",
    "For the final part of the implemenetation, we'll implement the seq2seq model. This will handle: \n",
    "- receiving the input/source sentence\n",
    "- using the encoder to produce the context vectors \n",
    "- using the decoder to produce the predicted output/target sentence\n",
    "\n",
    "Our full model will look like this:\n",
    "\n",
    "![](assets/seq2seq4.png)\n",
    "\n",
    "The `Seq2Seq` model takes in an `Encoder`, `Decoder`, and a `device` (used to place tensors on the GPU, if it exists).\n",
    "\n",
    "For this implementation, we have to ensure that the number of layers and the hidden (and cell) dimensions are equal in the `Encoder` and `Decoder`. This is not always the case, we do not necessarily need the same number of layers or the same hidden dimension sizes in a sequence-to-sequence model. However, if we did something like having a different number of layers then we would need to make decisions about how this is handled. For example, if our encoder has 2 layers and our decoder only has 1, how is this handled? Do we average the two context vectors output by the decoder? Do we pass both through a linear layer? Do we only use the context vector from the highest layer? Etc.\n",
    "\n",
    "Our `forward` method takes the source sentence, target sentence and a teacher-forcing ratio. The teacher forcing ratio is used when training our model. When decoding, at each time-step we will predict what the next token in the target sequence will be from the previous tokens decoded, $\\hat{y}_{t+1}=f(s_t^L)$. With probability equal to the teaching forcing ratio (`teacher_forcing_ratio`) we will use the actual ground-truth next token in the sequence as the input to the decoder during the next time-step. However, with probability `1 - teacher_forcing_ratio`, we will use the token that the model predicted as the next input to the model, even if it doesn't match the actual next token in the sequence.  \n",
    "\n",
    "The first thing we do in the `forward` method is to create an `outputs` tensor that will store all of our predictions, $\\hat{Y}$.\n",
    "\n",
    "We then feed the input/source sentence, `src`, into the encoder and receive out final hidden and cell states.\n",
    "\n",
    "The first input to the decoder is the start of sequence (`<sos>`) token. As our `trg` tensor already has the `<sos>` token appended (all the way back when we defined the `init_token` in our `TRG` field) we get our $y_1$ by slicing into it. We know how long our target sentences should be (`max_len`), so we loop that many times. The last token input into the decoder is the one **before** the `<eos>` token - the `<eos>` token is never input into the decoder. \n",
    "\n",
    "During each iteration of the loop, we:\n",
    "- pass the input, previous hidden and previous cell states ($y_t, s_{t-1}, c_{t-1}$) into the decoder\n",
    "- receive a prediction, next hidden state and next cell state ($\\hat{y}_{t+1}, s_{t}, c_{t}$) from the decoder\n",
    "- place our prediction, $\\hat{y}_{t+1}$ `output` in our tensor of predictions, $\\hat{Y}$`outputs`\n",
    "- decide if we are going to \"teacher force\" or not\n",
    " - if we do, the next `input` is the ground-truth next token in the sequence, $y_{t+1}$/`trg[t]`\n",
    " - if we don't, the next `input` is the predicted next token in the sequence, $\\hat{y}_{t+1}$/`top1`, which we get by doing an `argmax` over the output tensor\n",
    "    \n",
    "Once we've made all of our predictions, we return our tensor full of predictions, $\\hat{Y}$/`outputs`.\n",
    "\n",
    "**Note**: our decoder loop starts at 1, not 0. This means the 0th element of our `outputs` tensor remains all zeros. So our `trg` and `outputs` look something like:\n",
    "\n",
    "$$\\text{trg} = [<sos>, y_1, y_2, y_3, <eos>]$$\n",
    "$$\\text{outputs} = [0, \\hat{y}_1, \\hat{y}_2, \\hat{y}_3, <eos>]$$\n",
    "\n",
    "Later on when we calculate the loss, we cut off the first element of each tensor to get:\n",
    "\n",
    "$$\\text{trg} = [y_1, y_2, y_3, <eos>]$$\n",
    "$$\\text{outputs} = [\\hat{y}_1, \\hat{y}_2, \\hat{y}_3, <eos>]$$"
   ]
  },
  {
   "cell_type": "code",
   "execution_count": 49,
   "id": "5f5bd6d3-eff7-423d-8b12-bbe1656a4a40",
   "metadata": {},
   "outputs": [],
   "source": [
    "class Seq2Seq(nn.Module):\n",
    "    def __init__(self, encoder, decoder, device):\n",
    "        super().__init__()\n",
    "        \n",
    "        self.encoder = encoder\n",
    "        self.decoder = decoder\n",
    "        self.device = device\n",
    "        \n",
    "        assert encoder.hid_dim == decoder.hid_dim, \\\n",
    "            \"Hidden dimensions of encoder and decoder must be equal!\"\n",
    "        assert encoder.n_layers == decoder.n_layers, \\\n",
    "            \"Encoder and decoder must have equal number of layers!\"\n",
    "        \n",
    "        # Encoder: __init__(self, input_dim, emb_dim, hid_dim, n_layers, dropout):\n",
    "        # Decoder: __init__(self, output_dim, emb_dim, hid_dim, n_layers, dropout):\n",
    "\n",
    "    def forward(self, src, trg, teacher_forcing_ratio=0.5):\n",
    "        # Encoder: forward(self, src): # as for the encoder, the initial hidden and cell input is not provided and pytorch will pass zeros tensor instead\n",
    "        # Decoder: forward(self, input, hidden, cell):\n",
    "\n",
    "\n",
    "        # src = [src len, batch size]\n",
    "        # trg = [trg len, batch size]\n",
    "        # teacher_forcing_ratio is the possibility to use teacher forcing\n",
    "        # e.g. if teacher_forcing_ratio is 0.75 we use ground-truch 75% of the time\n",
    "\n",
    "        batch_size = trg.shape[1]\n",
    "        trg_len = trg.shape[0]\n",
    "        trg_vocab_size = self.decoder.output_dim\n",
    "\n",
    "        # tensor to store decoder outputs\n",
    "        outputs = torch.zeros(trg_len, batch_size, trg_vocab_size).to(self.device)\n",
    "\n",
    "        # last hidden state of the encoder is used as the initial hidden state of the decoder\n",
    "        hidden, cell = self.encoder(src)\n",
    "\n",
    "        # first input to the decoder is the <sos> tokens\n",
    "        input = trg[0, :]\n",
    "        \n",
    "        for t in range(1, trg_len):\n",
    "\n",
    "            # insert input token embedding, previous hidden and previous cell states\n",
    "            # receive output tensor (predictions) and new hidden and ccell states\n",
    "            output, hidden, cell = self.decoder(input, hidden, cell)\n",
    "\n",
    "            # place predicitons in a tensor holding predicitons for each token\n",
    "            outputs[t] = output\n",
    "\n",
    "            # decide if we are going to use teacher forcing or not\n",
    "            teacher_force = random.random() < teacher_forcing_ratio\n",
    "\n",
    "            # get the highest predicted token from our predictions\n",
    "            top1 = output.argmax(1)\n",
    "\n",
    "            # if teacher forcing, use actual next token as next input\n",
    "            # if not, use predicted token\n",
    "            input = trg[t] if teacher_force else top1\n",
    "\n",
    "        return outputs\n",
    "            "
   ]
  },
  {
   "cell_type": "markdown",
   "id": "8a074460-c99b-43b5-8d9c-915cc2325a92",
   "metadata": {},
   "source": [
    "# Training the Seq2Seq Model"
   ]
  },
  {
   "cell_type": "markdown",
   "id": "45cd289e-04c6-46ed-a418-8b0c4a663358",
   "metadata": {},
   "source": [
    "Now we have our model implemented, we can begin training it. \n",
    "\n",
    "First, we'll initialize our model. As mentioned before, the input and output dimensions are defined by the size of the vocabulary. The embedding dimesions and dropout for the encoder and decoder can be different, but the number of layers and the size of the hidden/cell states must be the same. \n",
    "\n",
    "We then define the encoder, decoder and then our Seq2Seq model, which we place on the `device`."
   ]
  },
  {
   "cell_type": "code",
   "execution_count": 50,
   "id": "7c730da4-b281-4013-bfd9-632cc7f137ad",
   "metadata": {
    "tags": []
   },
   "outputs": [],
   "source": [
    "device = torch.device('cuda' if torch.cuda.is_available() else 'cpu')\n",
    "INPUT_DIM = len(SRC_vocab_transform)\n",
    "OUTPUT_DIM = len(TRG_vocab_transform)\n",
    "ENC_EMB_DIM = 256\n",
    "DEC_EMB_DIM = 256\n",
    "HID_DIM = 512\n",
    "N_LAYERS = 2\n",
    "ENC_DROPOUT = 0.5\n",
    "DEC_DROPOUT = 0.5\n",
    "\n",
    "enc = Encoder(INPUT_DIM, ENC_EMB_DIM, HID_DIM, N_LAYERS, ENC_DROPOUT)\n",
    "dec = Decoder(OUTPUT_DIM, DEC_EMB_DIM, HID_DIM, N_LAYERS, DEC_DROPOUT)\n",
    "\n",
    "model = Seq2Seq(enc, dec, device).to(device)"
   ]
  },
  {
   "cell_type": "markdown",
   "id": "bc2a3461-1221-4040-9cfc-070fff428954",
   "metadata": {},
   "source": [
    "Next up is initializing the weights of our model. In the paper they state they initialize all weights from a uniform distribution between -0.08 and +0.08, i.e. $\\\\mathcal{U}(-0.08, 0.08).$\n",
    "\n",
    "We initialize weights in PyTorch by creating a function which we `apply` to our model. When using `apply`, the `init_weights` function will be called on every module and sub-module within our model. For each module we loop through all of the parameters and sample them from a uniform distribution with `nn.init.uniform_`."
   ]
  },
  {
   "cell_type": "code",
   "execution_count": 51,
   "id": "a3429311-fdbc-4ce8-9684-b4333defbcdf",
   "metadata": {
    "tags": []
   },
   "outputs": [
    {
     "data": {
      "text/plain": [
       "Seq2Seq(\n",
       "  (encoder): Encoder(\n",
       "    (embedding): Embedding(7853, 256)\n",
       "    (rnn): LSTM(256, 512, num_layers=2, dropout=0.5)\n",
       "    (dropout): Dropout(p=0.5, inplace=False)\n",
       "  )\n",
       "  (decoder): Decoder(\n",
       "    (embedding): Embedding(5893, 256)\n",
       "    (rnn): LSTM(256, 512, num_layers=2, dropout=0.5)\n",
       "    (fc_out): Linear(in_features=512, out_features=5893, bias=True)\n",
       "    (dropout): Dropout(p=0.5, inplace=False)\n",
       "  )\n",
       ")"
      ]
     },
     "execution_count": 51,
     "metadata": {},
     "output_type": "execute_result"
    }
   ],
   "source": [
    "def init_weights(m):\n",
    "    for name, param in m.named_parameters():\n",
    "        nn.init.uniform_(param.data, -0.08, 0.08)\n",
    "\n",
    "model.apply(init_weights)"
   ]
  },
  {
   "cell_type": "markdown",
   "id": "39b7981c-0e43-455e-9161-21e6dee39738",
   "metadata": {
    "tags": []
   },
   "source": [
    "We also define a function that will calculate the number of trainable parameters in the model"
   ]
  },
  {
   "cell_type": "code",
   "execution_count": 52,
   "id": "fdb91b03-6d29-41af-8c1b-9669890b8693",
   "metadata": {
    "tags": []
   },
   "outputs": [
    {
     "name": "stdout",
     "output_type": "stream",
     "text": [
      "The model has 13,898,501 trainable parameters\n"
     ]
    }
   ],
   "source": [
    "def count_parameters(model):\n",
    "    return sum(p.numel() for p in model.parameters() if p.requires_grad)\n",
    "\n",
    "print(f'The model has {count_parameters(model):,} trainable parameters')"
   ]
  },
  {
   "cell_type": "markdown",
   "id": "03d74213-08dc-40fb-91b7-cb91d1b5249a",
   "metadata": {},
   "source": [
    "We define our optimizer, which we use to update our parameters in the training loop. Check out [this](http://ruder.io/optimizing-gradient-descent/) post for information about different optimizers. Here, we'll use Adam."
   ]
  },
  {
   "cell_type": "code",
   "execution_count": 53,
   "id": "237e7bb6-7ded-4df8-aa88-ff327a1ad2ad",
   "metadata": {
    "tags": []
   },
   "outputs": [],
   "source": [
    "optimizer = optim.Adam(model.parameters())"
   ]
  },
  {
   "cell_type": "markdown",
   "id": "a0078338-1c40-46f4-ba64-22208bb05f7c",
   "metadata": {},
   "source": [
    "Next, we define our loss function. The `CrossEntropyLoss` function calculates both the log softmax as well as the negative log-likelihood of our predictions.\n",
    "\n",
    "Our loss function calculates the average loss per token, however by passing the index of the `<pad>` token as the `ignore_index` argument we ignore the loss whenever the target token is a padding token."
   ]
  },
  {
   "cell_type": "code",
   "execution_count": 54,
   "id": "172cd1d8-7c18-42ab-96e9-7808baf02dbd",
   "metadata": {
    "tags": []
   },
   "outputs": [],
   "source": [
    "TRG_PAD_IDX = TRG_vocab_transform['<pad>']\n",
    "criterion = nn.CrossEntropyLoss(ignore_index=TRG_PAD_IDX)"
   ]
  },
  {
   "cell_type": "markdown",
   "id": "52a2c283-d365-413b-9110-f4f42b7be125",
   "metadata": {},
   "source": [
    "Next, we'll define our training loop.\n",
    "\n",
    "First, we'll set the model into \"training mode\" with `model.train()`. This will turn on dropout (and batch normalization, which we aren't using) and then iterate through our data iterator.\n",
    "\n",
    "As stated before, our decoder loop starts at 1, not 0. This means the 0th element of our `outputs` tensor remains all zeros. So our `trg` and `outputs` look something like:\n",
    "\n",
    "\n",
    "$$\\text{trg} = [<sos>, y_1, y_2, y_3, <eos>]$$\n",
    "$$\\text{outputs} = [0, \\hat{y}_1, \\hat{y}_2, \\hat{y}_3, <eos>]$$\n",
    "\n",
    "\n",
    "Here, when we calculate the loss, we cut off the first element of each tensor to get:\n",
    "\n",
    "\n",
    "$$\\text{trg} = [y_1, y_2, y_3, <eos>]$$\n",
    "$$\\text{outputs} = [\\hat{y}_1, \\hat{y}_2, \\hat{y}_3, <eos>]$$\n",
    "\n",
    "\n",
    "At each iteration:\n",
    "- get the source and target sentences from the batch, $X$ and $Y$\n",
    "- zero the gradients calculated from the last batch\n",
    "- feed the source and target into the model to get the output, $\\hat{Y}$\n",
    "- as the loss function only works on 2d inputs with 1d targets we need to flatten each of them with `.view`\n",
    "    - we slice off the first column of the output and target tensors as mentioned above\n",
    "- calculate the gradients with `loss.backward()`\n",
    "- clip the gradients to prevent them from exploding (a common issue in RNNs)\n",
    "- update the parameters of our model by doing an optimizer step\n",
    "- sum the loss value to a running total\n",
    "\n",
    "Finally, we return the loss that is averaged over all batches."
   ]
  },
  {
   "cell_type": "code",
   "execution_count": 56,
   "id": "a0131ae8-75ae-4811-90a8-a2802e34ead8",
   "metadata": {
    "tags": []
   },
   "outputs": [],
   "source": [
    "def train(model, batch, optimizer, criterion, clip):\n",
    "    \n",
    "    model.train()\n",
    "    \n",
    "    epoch_loss = 0\n",
    "    iteration = 0\n",
    "    # print(len((batch))) # only for zip type\n",
    "    for src, _, trg in batch:\n",
    "        \n",
    "        src = src.to(device)\n",
    "        trg = trg.to(device)\n",
    "        \n",
    "        optimizer.zero_grad()\n",
    "        \n",
    "        output = model(src, trg, 0.7)\n",
    "        \n",
    "        # trg = [trg len, batch size]\n",
    "        # ouput = [trg len, batch size, output dim]\n",
    "        \n",
    "        output_dim = output.shape[-1]\n",
    "        \n",
    "        output = output[1:].view(-1, output_dim)\n",
    "        trg = trg[1:].view(-1)\n",
    "        \n",
    "        # trg = [(trg len - 1) * batch size]\n",
    "        # output = [(trg len - 1) batch size, output dim]\n",
    "        \n",
    "        loss = criterion(output, trg)\n",
    "        \n",
    "        loss.backward()\n",
    "        \n",
    "        torch.nn.utils.clip_grad_norm_(model.parameters(), clip)\n",
    "        \n",
    "        optimizer.step()\n",
    "        \n",
    "        epoch_loss += loss.item()\n",
    "        \n",
    "        iteration += 1\n",
    "        \n",
    "        \n",
    "    return epoch_loss / iteration"
   ]
  },
  {
   "cell_type": "markdown",
   "id": "f9ddaf54-7eda-4f72-a0b3-31fca590232a",
   "metadata": {},
   "source": [
    "Our evaluation loop is similar to our training loop, however as we aren't updating any parameters we don't need to pass an optimizer or a clip value.\n",
    "\n",
    "We must remember to set the model to evaluation mode with `model.eval()`. This will turn off dropout (and batch normalization, if used).\\n\n",
    "\n",
    "We use the `with torch.no_grad()` block to ensure no gradients are calculated within the block. This reduces memory consumption and speeds things up.\n",
    "\n",
    "The iteration loop is similar (without the parameter updates), however we must ensure we turn teacher forcing off for evaluation. This will cause the model to only use it's own predictions to make further predictions within a sentence, which mirrors how it would be used in deployment."
   ]
  },
  {
   "cell_type": "code",
   "execution_count": 57,
   "id": "78bc57f8-f782-4e76-996b-3c3c77ad4c9e",
   "metadata": {
    "tags": []
   },
   "outputs": [],
   "source": [
    "def evaluate(model, batch, criterion):\n",
    "    \n",
    "    model.eval()\n",
    "    \n",
    "    epoch_loss = 0\n",
    "    iteration = 0\n",
    "    with torch.no_grad():\n",
    "        for src, _, trg in batch:\n",
    "            src = src.to(device)\n",
    "            trg = trg.to(device)\n",
    "            \n",
    "            output = model(src, trg, 0) # turn off teach forcing\n",
    "            \n",
    "            # trg = [trg len, batch size]\n",
    "            # output = [trg_len, batch size, output dim]\n",
    "            \n",
    "            output_dim = output.shape[-1]\n",
    "            \n",
    "            output = output[1:].view(-1, output_dim)\n",
    "            trg = trg[1:].view(-1)\n",
    "            \n",
    "            # trg = [(trg len -1)*batch size]\n",
    "            # output = [(trg len - 1) * batch size, output dim]\n",
    "            \n",
    "            loss = criterion(output, trg)\n",
    "            \n",
    "            epoch_loss = loss.item()\n",
    "            iteration += 1\n",
    "            \n",
    "        return epoch_loss/iteration"
   ]
  },
  {
   "cell_type": "markdown",
   "id": "d56c1e9f-9037-4e13-9dfb-a8f55795097b",
   "metadata": {},
   "source": [
    "Next, we'll create a function that we'll use to tell us how long an epoch takes."
   ]
  },
  {
   "cell_type": "code",
   "execution_count": 58,
   "id": "18c6b07c-9ec8-4a1c-9869-f22d101b4a87",
   "metadata": {
    "tags": []
   },
   "outputs": [],
   "source": [
    "def epoch_time(start_time, end_time):\n",
    "    elapsed_time = end_time - start_time\n",
    "    elapsed_mins = int(elapsed_time/60)\n",
    "    elapsed_secs = int(elapsed_time - (elapsed_mins*60))\n",
    "    \n",
    "    return elapsed_mins, elapsed_secs"
   ]
  },
  {
   "cell_type": "code",
   "execution_count": null,
   "id": "34da7bf3-03d4-4660-92e2-25d98fb0cad8",
   "metadata": {},
   "outputs": [],
   "source": []
  },
  {
   "cell_type": "code",
   "execution_count": null,
   "id": "c058d23f-7f07-4892-9382-cae7943e57cd",
   "metadata": {},
   "outputs": [],
   "source": []
  },
  {
   "cell_type": "markdown",
   "id": "99ce7e5e-64da-4f69-8540-5cacf5941736",
   "metadata": {},
   "source": [
    "We can finally start training our model!\n",
    "\n",
    "At each epoch, we'll be checking if our model has achieved the best validation loss so far. If it has, we'll update our best validation loss and save the parameters of our model (called `state_dict` in PyTorch). Then, when we come to test our model, we'll use the saved parameters used to achieve the best validation loss. \n",
    "\n",
    "We'll be printing out both the loss and the perplexity at each epoch. It is easier to see a change in perplexity than a change in loss as the numbers are much bigger."
   ]
  },
  {
   "cell_type": "code",
   "execution_count": 66,
   "id": "deb0e97b-8b19-472a-86ac-6bc177193180",
   "metadata": {},
   "outputs": [
    {
     "name": "stdout",
     "output_type": "stream",
     "text": [
      "Epoch: 01 | Time: 0m 50s\n",
      "\tTrain Loss: 1.839 | Train PPL:   6.290\n",
      "\t Val. Loss: 0.544 |  Val. PPL:   1.722\n",
      "Epoch: 02 | Time: 0m 48s\n",
      "\tTrain Loss: 1.831 | Train PPL:   6.242\n",
      "\t Val. Loss: 0.544 |  Val. PPL:   1.722\n",
      "Epoch: 03 | Time: 0m 46s\n",
      "\tTrain Loss: 1.838 | Train PPL:   6.286\n",
      "\t Val. Loss: 0.544 |  Val. PPL:   1.722\n",
      "Epoch: 04 | Time: 0m 46s\n",
      "\tTrain Loss: 1.824 | Train PPL:   6.196\n",
      "\t Val. Loss: 0.544 |  Val. PPL:   1.722\n",
      "Epoch: 05 | Time: 0m 46s\n",
      "\tTrain Loss: 1.828 | Train PPL:   6.221\n",
      "\t Val. Loss: 0.544 |  Val. PPL:   1.722\n",
      "Epoch: 06 | Time: 0m 47s\n",
      "\tTrain Loss: 1.838 | Train PPL:   6.282\n",
      "\t Val. Loss: 0.544 |  Val. PPL:   1.722\n",
      "Epoch: 07 | Time: 0m 46s\n",
      "\tTrain Loss: 1.822 | Train PPL:   6.186\n",
      "\t Val. Loss: 0.544 |  Val. PPL:   1.722\n",
      "Epoch: 08 | Time: 0m 46s\n",
      "\tTrain Loss: 1.835 | Train PPL:   6.264\n",
      "\t Val. Loss: 0.544 |  Val. PPL:   1.722\n",
      "Epoch: 09 | Time: 0m 47s\n",
      "\tTrain Loss: 1.838 | Train PPL:   6.281\n",
      "\t Val. Loss: 0.544 |  Val. PPL:   1.722\n",
      "Epoch: 10 | Time: 0m 47s\n",
      "\tTrain Loss: 1.823 | Train PPL:   6.192\n",
      "\t Val. Loss: 0.544 |  Val. PPL:   1.722\n",
      "Epoch: 11 | Time: 0m 46s\n",
      "\tTrain Loss: 1.838 | Train PPL:   6.282\n",
      "\t Val. Loss: 0.544 |  Val. PPL:   1.722\n",
      "Epoch: 12 | Time: 0m 48s\n",
      "\tTrain Loss: 1.822 | Train PPL:   6.183\n",
      "\t Val. Loss: 0.544 |  Val. PPL:   1.722\n",
      "Epoch: 13 | Time: 0m 46s\n",
      "\tTrain Loss: 1.843 | Train PPL:   6.313\n",
      "\t Val. Loss: 0.544 |  Val. PPL:   1.722\n",
      "Epoch: 14 | Time: 0m 45s\n",
      "\tTrain Loss: 1.832 | Train PPL:   6.246\n",
      "\t Val. Loss: 0.544 |  Val. PPL:   1.722\n",
      "Epoch: 15 | Time: 0m 47s\n",
      "\tTrain Loss: 1.838 | Train PPL:   6.282\n",
      "\t Val. Loss: 0.544 |  Val. PPL:   1.722\n",
      "Epoch: 16 | Time: 0m 46s\n",
      "\tTrain Loss: 1.836 | Train PPL:   6.272\n",
      "\t Val. Loss: 0.544 |  Val. PPL:   1.722\n",
      "Epoch: 17 | Time: 0m 48s\n",
      "\tTrain Loss: 1.838 | Train PPL:   6.285\n",
      "\t Val. Loss: 0.544 |  Val. PPL:   1.722\n",
      "Epoch: 18 | Time: 0m 46s\n",
      "\tTrain Loss: 1.833 | Train PPL:   6.255\n",
      "\t Val. Loss: 0.544 |  Val. PPL:   1.722\n",
      "Epoch: 19 | Time: 0m 46s\n",
      "\tTrain Loss: 1.829 | Train PPL:   6.226\n",
      "\t Val. Loss: 0.544 |  Val. PPL:   1.722\n",
      "Epoch: 20 | Time: 0m 48s\n",
      "\tTrain Loss: 1.833 | Train PPL:   6.253\n",
      "\t Val. Loss: 0.544 |  Val. PPL:   1.722\n",
      "Epoch: 21 | Time: 0m 46s\n",
      "\tTrain Loss: 1.835 | Train PPL:   6.264\n",
      "\t Val. Loss: 0.544 |  Val. PPL:   1.722\n",
      "Epoch: 22 | Time: 0m 47s\n",
      "\tTrain Loss: 1.819 | Train PPL:   6.167\n",
      "\t Val. Loss: 0.544 |  Val. PPL:   1.722\n",
      "Epoch: 23 | Time: 0m 47s\n",
      "\tTrain Loss: 1.831 | Train PPL:   6.241\n",
      "\t Val. Loss: 0.544 |  Val. PPL:   1.722\n",
      "Epoch: 24 | Time: 0m 46s\n",
      "\tTrain Loss: 1.820 | Train PPL:   6.172\n",
      "\t Val. Loss: 0.544 |  Val. PPL:   1.722\n",
      "Epoch: 25 | Time: 0m 46s\n",
      "\tTrain Loss: 1.857 | Train PPL:   6.405\n",
      "\t Val. Loss: 0.544 |  Val. PPL:   1.722\n",
      "Epoch: 26 | Time: 0m 48s\n",
      "\tTrain Loss: 1.827 | Train PPL:   6.212\n",
      "\t Val. Loss: 0.544 |  Val. PPL:   1.722\n",
      "Epoch: 27 | Time: 0m 48s\n",
      "\tTrain Loss: 1.848 | Train PPL:   6.346\n",
      "\t Val. Loss: 0.544 |  Val. PPL:   1.722\n",
      "Epoch: 28 | Time: 0m 47s\n",
      "\tTrain Loss: 1.841 | Train PPL:   6.303\n",
      "\t Val. Loss: 0.544 |  Val. PPL:   1.722\n",
      "Epoch: 29 | Time: 0m 46s\n",
      "\tTrain Loss: 1.830 | Train PPL:   6.236\n",
      "\t Val. Loss: 0.544 |  Val. PPL:   1.722\n",
      "Epoch: 30 | Time: 0m 47s\n",
      "\tTrain Loss: 1.849 | Train PPL:   6.352\n",
      "\t Val. Loss: 0.544 |  Val. PPL:   1.722\n",
      "Epoch: 31 | Time: 0m 47s\n",
      "\tTrain Loss: 1.841 | Train PPL:   6.305\n",
      "\t Val. Loss: 0.544 |  Val. PPL:   1.722\n",
      "Epoch: 32 | Time: 0m 48s\n",
      "\tTrain Loss: 1.849 | Train PPL:   6.352\n",
      "\t Val. Loss: 0.544 |  Val. PPL:   1.722\n",
      "Epoch: 33 | Time: 0m 49s\n",
      "\tTrain Loss: 1.820 | Train PPL:   6.171\n",
      "\t Val. Loss: 0.544 |  Val. PPL:   1.722\n",
      "Epoch: 34 | Time: 0m 50s\n",
      "\tTrain Loss: 1.834 | Train PPL:   6.258\n",
      "\t Val. Loss: 0.544 |  Val. PPL:   1.722\n",
      "Epoch: 35 | Time: 0m 50s\n",
      "\tTrain Loss: 1.838 | Train PPL:   6.282\n",
      "\t Val. Loss: 0.544 |  Val. PPL:   1.722\n",
      "Epoch: 36 | Time: 0m 48s\n",
      "\tTrain Loss: 1.842 | Train PPL:   6.308\n",
      "\t Val. Loss: 0.544 |  Val. PPL:   1.722\n",
      "Epoch: 37 | Time: 0m 48s\n",
      "\tTrain Loss: 1.835 | Train PPL:   6.268\n",
      "\t Val. Loss: 0.544 |  Val. PPL:   1.722\n",
      "Epoch: 38 | Time: 0m 49s\n",
      "\tTrain Loss: 1.823 | Train PPL:   6.193\n",
      "\t Val. Loss: 0.544 |  Val. PPL:   1.722\n",
      "Epoch: 39 | Time: 0m 48s\n",
      "\tTrain Loss: 1.839 | Train PPL:   6.290\n",
      "\t Val. Loss: 0.544 |  Val. PPL:   1.722\n",
      "Epoch: 40 | Time: 0m 48s\n",
      "\tTrain Loss: 1.826 | Train PPL:   6.210\n",
      "\t Val. Loss: 0.544 |  Val. PPL:   1.722\n"
     ]
    }
   ],
   "source": [
    "N_EPOCHS = 40\n",
    "CLIP = 1\n",
    "\n",
    "BATCH_SIZE = 128\n",
    "# train_set, valid_set = Multi30k(split=('train','valid'), language_pair=('de', 'en'))\n",
    "train_dataloader = DataLoader(train_data, batch_size=BATCH_SIZE, collate_fn=generate_batch)\n",
    "# valid_dataloader = DataLoader(valid_data, batch_size=BATCH_SIZE, collate_fn=generate_batch)\n",
    "\n",
    "best_valid_loss = float('inf')\n",
    "# print(len(train_dataloader)) # fails because the method used to load the dataset doesn't implement len\n",
    "for epoch in range(N_EPOCHS):\n",
    "    \n",
    "    start_time = time.time()\n",
    "    \n",
    "    train_loss = train(model, train_dataloader, optimizer, criterion, CLIP)\n",
    "    valid_loss = evaluate(model, valid_dataloader, criterion)\n",
    "    \n",
    "    end_time = time.time()\n",
    "    \n",
    "    epoch_mins, epoch_secs = epoch_time(start_time, end_time)\n",
    "    \n",
    "    if valid_loss < best_valid_loss:\n",
    "        best_valid_loss = valid_loss\n",
    "        torch.save(model.state_dict(), 'tut1-model_moreTrain.pt')\n",
    "    \n",
    "    print(f'Epoch: {epoch+1:02} | Time: {epoch_mins}m {epoch_secs}s')\n",
    "    print(f'\\tTrain Loss: {train_loss:.3f} | Train PPL: {math.exp(train_loss):7.3f}')\n",
    "    print(f'\\t Val. Loss: {valid_loss:.3f} |  Val. PPL: {math.exp(valid_loss):7.3f}')"
   ]
  },
  {
   "cell_type": "markdown",
   "id": "85402e95-86aa-4d6e-9e0b-7bc6faf73f6e",
   "metadata": {},
   "source": [
    "We'll load the parameters `(state_dict)` that gave our model the best validation loss and run it the model on the test set.\n",
    "\n"
   ]
  },
  {
   "cell_type": "code",
   "execution_count": 61,
   "id": "648244d3-40bf-4f4b-ae86-334b55aae449",
   "metadata": {
    "tags": []
   },
   "outputs": [
    {
     "name": "stdout",
     "output_type": "stream",
     "text": [
      "| Test Loss: 0.004 | Test PPL:   1.004 |\n"
     ]
    }
   ],
   "source": [
    "model.load_state_dict(torch.load('tut1-model.pt'))\n",
    "test_loader = DataLoader(test_data, batch_size=1, collate_fn=generate_batch)\n",
    "test_loss = evaluate(model, test_loader, criterion)\n",
    "\n",
    "print(f'| Test Loss: {test_loss:.3f} | Test PPL: {math.exp(test_loss):7.3f} |')\n"
   ]
  },
  {
   "cell_type": "code",
   "execution_count": 62,
   "id": "23f63798-1ea7-45a0-962c-77698b1c4d5e",
   "metadata": {
    "tags": []
   },
   "outputs": [
    {
     "name": "stdout",
     "output_type": "stream",
     "text": [
      "| Test Loss: 0.003 | Test PPL:   1.003 |\n"
     ]
    }
   ],
   "source": [
    "model.load_state_dict(torch.load('tut1-model_moreTrain.pt'))\n",
    "test_loader = DataLoader(test_data, batch_size=1, collate_fn=generate_batch)\n",
    "test_loss = evaluate(model, test_loader, criterion)\n",
    "\n",
    "print(f'| Test Loss: {test_loss:.3f} | Test PPL: {math.exp(test_loss):7.3f} |')\n"
   ]
  },
  {
   "cell_type": "code",
   "execution_count": 71,
   "id": "132d0eda-3225-47f5-a62c-a4cebbecbb09",
   "metadata": {},
   "outputs": [
    {
     "name": "stdout",
     "output_type": "stream",
     "text": [
      "Input: Jungen tanzen mitten in der Nacht auf Pfosten.\n",
      "Translation: night at sidewalk the on on <unk> a\n"
     ]
    }
   ],
   "source": [
    "import torch\n",
    "import spacy\n",
    "\n",
    "device = torch.device('cuda' if torch.cuda.is_available() else 'cpu')\n",
    "INPUT_DIM = len(SRC_vocab_transform)\n",
    "OUTPUT_DIM = len(TRG_vocab_transform)\n",
    "ENC_EMB_DIM = 256\n",
    "DEC_EMB_DIM = 256\n",
    "HID_DIM = 512\n",
    "N_LAYERS = 2\n",
    "ENC_DROPOUT = 0.5\n",
    "DEC_DROPOUT = 0.5\n",
    "\n",
    "enc = Encoder(INPUT_DIM, ENC_EMB_DIM, HID_DIM, N_LAYERS, ENC_DROPOUT)\n",
    "dec = Decoder(OUTPUT_DIM, DEC_EMB_DIM, HID_DIM, N_LAYERS, DEC_DROPOUT)\n",
    "\n",
    "model = Seq2Seq(enc, dec, device).to(device)\n",
    "model.load_state_dict(torch.load('tut1-model_moreTrain.pt'))\n",
    "\n",
    "# Load the German and English spaCy tokenizers\n",
    "spacy_de = spacy.load(\"de_core_news_sm\")\n",
    "spacy_en = spacy.load(\"en_core_web_sm\")\n",
    "\n",
    "def translate_sentence(model, sentence, src_tokenizer, trg_tokenizer, max_length=50):\n",
    "    \n",
    "    model.eval()\n",
    "    # Tokenize the input sentence\n",
    "    tokenized_sentence = [tok.text.lower() for tok in src_tokenizer(sentence)]\n",
    "    \n",
    "    # Add start and end tokens and convert to tensor\n",
    "    src_tensor = add_symbols(torch.tensor(SRC_vocab_transform(tokenized_sentence)), SRC_vocab_transform)\n",
    "    src_tensor = src_tensor.unsqueeze(1).to(model.device)\n",
    "    \n",
    "    # Forward pass through the model\n",
    "    with torch.no_grad():\n",
    "        hidden, cell = model.encoder(src_tensor)\n",
    "    \n",
    "    # Create a list to store the translated words\n",
    "    trg_indexes = TRG_vocab_transform(['<sos>'])\n",
    "    trg_tensor = torch.LongTensor([trg_indexes[-1]]).to(model.device)\n",
    "    \n",
    "    # Initialize variables for the decoding loop\n",
    "    for _ in range(max_length):\n",
    "        \n",
    "        \n",
    "        with torch.no_grad():\n",
    "            output, hidden, cell = model.decoder(trg_tensor, hidden, cell)\n",
    "        \n",
    "        pred_token = output.argmax(1)\n",
    "        trg_indexes.append(pred_token.item())\n",
    "        \n",
    "        trg_tensor = pred_token\n",
    "        \n",
    "        if pred_token.item() == TRG_vocab_transform(['<eos>'])[0]:\n",
    "            break\n",
    "    # Convert the indices to words\n",
    "    \n",
    "    translated_sentence = [TRG_vocab_transform.get_itos()[i] for i in trg_indexes]\n",
    "    \n",
    "    # Remove the start and end tokens\n",
    "    translated_sentence = translated_sentence[1:-1]\n",
    "    \n",
    "    return ' '.join(translated_sentence)\n",
    "\n",
    "# Example usage:\n",
    "input_sentence = \"Jungen tanzen mitten in der Nacht auf Pfosten.\"\n",
    "# input_sentence = \"Zwei junge weiße Männer sind im Freien in der Nähe vieler Büsche.\"\n",
    "\n",
    "translated_sentence = translate_sentence(model, input_sentence, spacy_de, spacy_en)\n",
    "print(f'Input: {input_sentence}')\n",
    "print(f'Translation: {translated_sentence}')\n"
   ]
  }
 ],
 "metadata": {
  "kernelspec": {
   "display_name": "Python 3 - GPU (ipykernel)",
   "language": "python",
   "name": "python3-gpu"
  },
  "language_info": {
   "codemirror_mode": {
    "name": "ipython",
    "version": 3
   },
   "file_extension": ".py",
   "mimetype": "text/x-python",
   "name": "python",
   "nbconvert_exporter": "python",
   "pygments_lexer": "ipython3",
   "version": "3.8.16"
  }
 },
 "nbformat": 4,
 "nbformat_minor": 5
}
