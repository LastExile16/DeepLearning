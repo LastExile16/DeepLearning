{
 "cells": [
  {
   "cell_type": "code",
   "execution_count": 62,
   "metadata": {},
   "outputs": [
    {
     "data": {
      "text/plain": [
       "<torch._C.Generator at 0x7f2157215710>"
      ]
     },
     "execution_count": 62,
     "metadata": {},
     "output_type": "execute_result"
    }
   ],
   "source": [
    "import torch ## main pytorch library, gives access to tensors, random generators, utils like data loaders, etc.\n",
    "import torch.nn as nn ## neural network stuff like layers\n",
    "import torch.nn.functional as F ## functions used in nn like activation functions, loss functions, drop functions, etc.\n",
    "import torch.optim as optim ## optimizers\n",
    "\n",
    "import torchvision ## library related to image analysis including ready datasets and trained models\n",
    "import torchvision.transforms as transforms ## modules help with image data preprocessing such as transfromations\n",
    "\n",
    "import matplotlib.pyplot as plt\n",
    "import seaborn as sns # type: ignore\n",
    "sns.set()\n",
    "\n",
    "import numpy as np\n",
    "\n",
    "torch.manual_seed(42)"
   ]
  },
  {
   "attachments": {},
   "cell_type": "markdown",
   "metadata": {},
   "source": [
    "### Load Dataset\n",
    "* Remember, despite providing the transforms as a parameter when preparing the dataset, it won't apply the transforms functions until you use dataloader to load the data.\n",
    "    * here a data pipeline is created through which the data will flow and multiple transforms will be applied.\n",
    "However, until torch.utils.data.DataLoader is called, transformations on the data won't be applied"
   ]
  },
  {
   "cell_type": "code",
   "execution_count": 63,
   "metadata": {},
   "outputs": [
    {
     "name": "stdout",
     "output_type": "stream",
     "text": [
      "Min Pixel Value: -0.4193548262119293 \n",
      "Max Pixel Value: 2.8064515590667725\n",
      "Mean Pixel Value: 0.07877343893051147 \n",
      "Pixel Values Std: 1.0597584247589111\n"
     ]
    }
   ],
   "source": [
    "train_batch_size = 5\n",
    "test_batch_size = 1000\n",
    "# specify the transforms\n",
    "train_transforms = transforms.Compose([\n",
    "                                        transforms.ToTensor(),\n",
    "                                        transforms.Normalize(0.13, 0.31)\n",
    "                                    ])\n",
    "\n",
    "# prepare the dataset\n",
    "trainset = torchvision.datasets.MNIST(root='./data', train=True, download=True, transform=train_transforms)\n",
    "# load the dataset\n",
    "indices = torch.arange(100)\n",
    "import torch.utils.data as data_utils\n",
    "trainset = data_utils.Subset(trainset, indices)\n",
    "from torch.utils.data import DataLoader\n",
    "trainloader = DataLoader(trainset, batch_size=train_batch_size, shuffle=True, num_workers=4)\n",
    "# explore the loaded dataset\n",
    "images, labels = next(iter(trainloader))\n",
    "print('Min Pixel Value: {} \\nMax Pixel Value: {}'.format(images.min(), images.max()))\n",
    "print('Mean Pixel Value: {} \\nPixel Values Std: {}'.format(images.float().mean(), images.float().std()))\n",
    "\n",
    "# Create test set and define test dataloader\n",
    "testset = torchvision.datasets.MNIST(root='./data', train=False, download=True, transform=train_transforms)\n",
    "testloader = DataLoader(testset, batch_size=test_batch_size, shuffle=True, num_workers=4)\n"
   ]
  },
  {
   "cell_type": "code",
   "execution_count": 64,
   "metadata": {},
   "outputs": [
    {
     "data": {
      "text/plain": [
       "20"
      ]
     },
     "execution_count": 64,
     "metadata": {},
     "output_type": "execute_result"
    }
   ],
   "source": [
    "len(trainloader)"
   ]
  },
  {
   "cell_type": "code",
   "execution_count": 65,
   "metadata": {},
   "outputs": [
    {
     "data": {
      "image/png": "[encoded data removed]",
      "text/plain": [
       "<Figure size 2000x1600 with 5 Axes>"
      ]
     },
     "metadata": {},
     "output_type": "display_data"
    }
   ],
   "source": [
    "fig = plt.figure(figsize=(20,16))\n",
    "for i in range(5):\n",
    "  plt.subplot(4,5,i+1)\n",
    "  plt.tight_layout()\n",
    "  plt.imshow(images[i][0], cmap='gray', interpolation='none')\n",
    "  plt.title(\"Ground Truth: {}\".format(labels[i]))\n",
    "  plt.xticks([])\n",
    "  plt.yticks([])\n",
    "fig;"
   ]
  },
  {
   "attachments": {},
   "cell_type": "markdown",
   "metadata": {},
   "source": [
    "### Build the Neural Network Model\n",
    "* nn.Module or nn.Sequential can be used similarly\n",
    "    * as explained [here](https://discuss.pytorch.org/t/differences-between-writing-models-with-nn-sequential-vs-creating-a-class/17470):\n",
    "        * You can use whatever fits your use case.\n",
    "        * While some people like to use the nn.Sequential approach a lot, I usually just use it for small sub-modules and like to define my model in a functional way, i.e. derive from nn.Module and write the forward method myself.\n",
    "        * This approach gives you more flexibility in my opinion, since you are able to easily create skip connections etc.\n",
    "        * On the other hand if you just want to stack layers together, nn.Sequential is totally fine.\n",
    "    * example of nn.Sequential\n",
    "        * `net = nn.Sequential(\n",
    "      nn.Linear(3, 4),\n",
    "      nn.Sigmoid(),\n",
    "      nn.Linear(4, 1),\n",
    "      nn.Sigmoid()\n",
    "      ).to(device)`\n",
    "___\n",
    "* The nn.Module is a base class for all neural network modules in PyTorch.\n",
    "* when calling init of super, in previous versions of python, one had to specify two arguments subclass name and self\n",
    "    * `super(SubclassName, self).__init__()`"
   ]
  },
  {
   "cell_type": "code",
   "execution_count": 66,
   "metadata": {},
   "outputs": [],
   "source": [
    "def set_device():\n",
    "    device = torch.device('cpu')\n",
    "    if torch.cuda.is_available():\n",
    "        device = torch.device('cuda')\n",
    "    return device\n",
    "\n",
    "class Net(nn.Module):\n",
    "    def __init__(self):\n",
    "        super().__init__()\n",
    "        # define the layers\n",
    "        self.activation = F.relu\n",
    "        self.out_activation = nn.Softmax(dim=1)\n",
    "        self.dropout = nn.Dropout(p=0.2)\n",
    "        self.to(device=set_device())\n",
    "        self.layer1 = nn.Linear(28 * 28 * 1, 512)\n",
    "        self.layer2 = nn.Linear(512, 256)\n",
    "        self.layer3 = nn.Linear(256, 128)\n",
    "        self.layer4 = nn.Linear(128, 64)\n",
    "        self.layer5 = nn.Linear(64, 32)\n",
    "        self.layer6 = nn.Linear(32, 16)\n",
    "        self.output = nn.Linear(16, 10)\n",
    "    \n",
    "    def forward(self, x):\n",
    "        x = torch.flatten(x, 1)\n",
    "        x = self.activation(self.layer1(x))\n",
    "        # x = self.dropout(x)\n",
    "        # print(x.shape)\n",
    "        x = self.activation(self.layer2(x))\n",
    "        # x = self.dropout(x)\n",
    "        # print(x.shape)\n",
    "        x = self.activation(self.layer3(x))\n",
    "        # x = self.dropout(x)\n",
    "        # print(x.shape)\n",
    "        x = self.activation(self.layer4(x))\n",
    "        # x = self.dropout(x)\n",
    "        # print(x.shape)\n",
    "        x = self.activation(self.layer5(x))\n",
    "        # x = self.dropout(x)\n",
    "        # print(x.shape)\n",
    "        x = self.activation(self.layer6(x))\n",
    "        # x = self.dropout(x)\n",
    "        # print(x.shape)\n",
    "        x = self.out_activation(self.output(x))\n",
    "        # x = self.output2(x)\n",
    "        return x\n",
    "\n",
    "# Instantiate the model\n",
    "model = Net()\n",
    "# print(model)\n",
    "# model.to(device=set_device())\n",
    "\n",
    "# torch.Size([250, 512])\n",
    "# torch.Size([250, 256])\n",
    "# torch.Size([250, 128])\n",
    "# torch.Size([250, 64])\n",
    "# torch.Size([250, 32])\n",
    "# torch.Size([250, 16])"
   ]
  },
  {
   "attachments": {},
   "cell_type": "markdown",
   "metadata": {},
   "source": [
    "### define the optimizers and loss function"
   ]
  },
  {
   "cell_type": "code",
   "execution_count": 67,
   "metadata": {},
   "outputs": [],
   "source": [
    "optimizer = optim.Adam(model.parameters(), lr=0.0001)\n",
    "criterion = nn.CrossEntropyLoss()"
   ]
  },
  {
   "cell_type": "code",
   "execution_count": 68,
   "metadata": {},
   "outputs": [],
   "source": [
    "n_epochs = 5\n",
    "train_batch_losses = []\n",
    "train_epoch_losses = []\n",
    "predictions = []\n"
   ]
  },
  {
   "cell_type": "code",
   "execution_count": 69,
   "metadata": {},
   "outputs": [
    {
     "name": "stdout",
     "output_type": "stream",
     "text": [
      "Epoch: 1, Loss: 2.300906240940094\n",
      "Epoch: 2, Loss: 2.3002033591270448\n",
      "Epoch: 3, Loss: 2.2993290185928346\n",
      "Epoch: 4, Loss: 2.2977528095245363\n",
      "Epoch: 5, Loss: 2.2945481181144713\n"
     ]
    }
   ],
   "source": [
    "model.train()\n",
    "for epoch_i in range(n_epochs):\n",
    "    batch_loss_sum = 0\n",
    "    for batch_i, (input, target) in enumerate(trainloader):\n",
    "        # making a pridiction in forward pass\n",
    "        y_hat = model(input)\n",
    "        # calculating the loss between original and predicted data points\n",
    "        loss = criterion(y_hat, target)\n",
    "        # sum the losses\n",
    "        current_batch_loss= loss.item()\n",
    "        batch_loss_sum += current_batch_loss\n",
    "        # store loss into list\n",
    "        train_batch_losses.append(current_batch_loss)\n",
    "        # zeroing gradients after each iteration\n",
    "        optimizer.zero_grad()\n",
    "        # backward pass for computing the gradients of the loss w.r.t to learnable parameters\n",
    "        loss.backward()\n",
    "        # updateing the parameters after each iteration\n",
    "        optimizer.step()\n",
    "        \n",
    "    # store batch id\n",
    "    train_epoch_losses.append(batch_loss_sum/len(trainloader))\n",
    "    print(f'Epoch: {epoch_i+1}, Loss: {train_epoch_losses[-1]}')\n",
    "        # self.layer1 = nn.Linear(780, 512)\n",
    "        # self.layer2 = nn.Linear(512, 256)\n",
    "        # self.layer3 = nn.Linear(256, 128)\n",
    "        # self.layer4 = nn.Linear(128, 64)\n",
    "        # self.layer5 = nn.Linear(64, 32)\n",
    "        # self.layer6 = nn.Linear(32, 16)"
   ]
  },
  {
   "cell_type": "code",
   "execution_count": 70,
   "metadata": {},
   "outputs": [],
   "source": [
    "train_epoch_losses2 = []\n",
    "for i in range(5):\n",
    "    # for sample_i, (input, target) in enumerate(trainloader):\n",
    "    for w in range (240):\n",
    "        train_epoch_losses2.append(train_epoch_losses[i])\n",
    "    # break\n"
   ]
  },
  {
   "cell_type": "code",
   "execution_count": 71,
   "metadata": {},
   "outputs": [
    {
     "data": {
      "image/png": "[encoded data removed]",
      "text/plain": [
       "<Figure size 640x480 with 1 Axes>"
      ]
     },
     "metadata": {},
     "output_type": "display_data"
    }
   ],
   "source": [
    "\n",
    "# plt.plot(train_batch_losses, label = \"Adam Optimizer\")\n",
    "# plt.plot(train_epoch_losses2, marker=\"_\", label = \"Adam Optimizer\")\n",
    "plt.plot(range(1,n_epochs+1), train_epoch_losses, marker=\"o\", label = \"Adam Optimizer\")\n",
    "plt.xlabel('epoch')\n",
    "plt.ylabel('Average loss per Epoch')\n",
    "plt.legend()\n",
    "plt.show()"
   ]
  },
  {
   "cell_type": "code",
   "execution_count": 72,
   "metadata": {},
   "outputs": [
    {
     "data": {
      "text/plain": [
       "100"
      ]
     },
     "execution_count": 72,
     "metadata": {},
     "output_type": "execute_result"
    }
   ],
   "source": [
    "len(train_batch_losses) # epochs*batch_count"
   ]
  },
  {
   "cell_type": "code",
   "execution_count": 77,
   "metadata": {},
   "outputs": [
    {
     "name": "stdout",
     "output_type": "stream",
     "text": [
      "torch.Size([5, 10])\n",
      "tensor([4, 0, 4, 4, 5])\n",
      "tensor([0.0915, 0.1004, 0.1030, 0.1338, 0.0943, 0.0710, 0.1350, 0.0950, 0.0871,\n",
      "        0.0888], grad_fn=<SelectBackward0>)\n"
     ]
    }
   ],
   "source": [
    "# sum=0\n",
    "# for sample_i, (input, target) in enumerate(trainloader):\n",
    "#     print(target)\n",
    "#     # break\n",
    "\n",
    "\n",
    "# it contains the result for the last batch (batch of 5 samples)\n",
    "# the output of final layer was 16\n",
    "print(y_hat.shape) \n",
    "print(target)\n",
    "print((y_hat[0]))\n"
   ]
  },
  {
   "cell_type": "code",
   "execution_count": 74,
   "metadata": {},
   "outputs": [
    {
     "name": "stdout",
     "output_type": "stream",
     "text": [
      "tensor([[0.1738, 0.1141, 0.1949, 0.1627, 0.3544],\n",
      "        [0.2976, 0.1580, 0.1899, 0.3035, 0.0509],\n",
      "        [0.0130, 0.5464, 0.0443, 0.3677, 0.0286],\n",
      "        [0.0377, 0.0262, 0.2600, 0.0168, 0.6594]])\n"
     ]
    }
   ],
   "source": [
    "# Importing Libraries\n",
    "import torch\n",
    "import torch.nn as nn\n",
    "# Using Softmax() function\n",
    "a = nn.Softmax(dim=1)\n",
    "# Describing a variable\n",
    "input = torch.randn(4, 5)\n",
    "# Declaring the output\n",
    "output = a(input)\n",
    "# Print the output\n",
    "print(output)"
   ]
  },
  {
   "cell_type": "code",
   "execution_count": 75,
   "metadata": {},
   "outputs": [
    {
     "data": {
      "text/plain": [
       "tensor(0.8508)"
      ]
     },
     "execution_count": 75,
     "metadata": {},
     "output_type": "execute_result"
    }
   ],
   "source": [
    "sum(output[:,3])"
   ]
  }
 ],
 "metadata": {
  "kernelspec": {
   "display_name": "tensor_venv",
   "language": "python",
   "name": "python3"
  },
  "language_info": {
   "codemirror_mode": {
    "name": "ipython",
    "version": 3
   },
   "file_extension": ".py",
   "mimetype": "text/x-python",
   "name": "python",
   "nbconvert_exporter": "python",
   "pygments_lexer": "ipython3",
   "version": "3.8.15"
  },
  "orig_nbformat": 4
 },
 "nbformat": 4,
 "nbformat_minor": 2
}
